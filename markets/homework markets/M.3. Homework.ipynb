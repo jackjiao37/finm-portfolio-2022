{
 "cells": [
  {
   "cell_type": "markdown",
   "id": "f7605588",
   "metadata": {},
   "source": [
    "# M.3. Homework\n",
    "\n",
    "## Markets Foundations\n",
    "\n",
    "### UChicago Financial Mathematics\n",
    "\n",
    "#### September 2022\n",
    "\n",
    "* Mark Hendricks\n",
    "* hendricks@uchicago.edu\n",
    "\n",
    "#### This assignment is not submitted, graded, or for credit. \n",
    "Rather, it is assigned for learning purposes."
   ]
  },
  {
   "cell_type": "markdown",
   "id": "c4f31467",
   "metadata": {},
   "source": [
    "# Swap Spread Trade\n",
    "\n",
    "Suppose it is Aug 15, 2020. We observe the following annual rates, (semiannually compounded):\n",
    "* 7-year T-note (newly issued) has a price of par, with a coupon of 0.50%.\n",
    "* 7-year swap (semi-annual, SOFR) has a swap rate of 0.25%.\n",
    "\n",
    "\n",
    "Set up the following **swap spread trade** on notional of \\$200 million.\n",
    "* repo the 7-year treasury bond\n",
    "    - Buy treasuries, immediately repo them. \n",
    "    - Thus, you are receiving the T-note coupon, paying the repo rate (SOFR). \n",
    "* enter long a 7-year SOFR swap\n",
    "    - Pay the swap rate, receive SOFR. \n",
    "\n",
    "Simplifications:\n",
    "* No haircut on the repo. Thus, no capital is being used.\n",
    "* The swap is a semiannual swap, based on SOFR, without any spread. \n",
    "* The repo is 6-month terms, rolled over, with the same timing of the swap. i.e. You pay the repo rate (SOFR) on the same days you receive the SOFR swap payment (SOFR). So these cancel out. \n",
    "*  Assume that no matter what happens to the bond price, you are able to roll over the repo financing. Thus, there is no need to consider the pricing or financing in the interim.\n",
    "* No counterparty risk in the swap or the repo.\n",
    "* The calendar works out to be exactly six month intervals from Aug 15, 2020."
   ]
  },
  {
   "cell_type": "markdown",
   "id": "1ae4b149",
   "metadata": {},
   "source": [
    "## 1\n",
    "\n",
    "List the cashflows over the first two years of this trade, through Aug 15, 2022. \n",
    "\n",
    "*No need to worry about exact dates, just consider four 6-month intervals.*"
   ]
  },
  {
   "cell_type": "markdown",
   "id": "8e662648",
   "metadata": {},
   "source": [
    "## 2\n",
    "\n",
    "Suppose that it is August 15, 2022, immediately after the swap has reset and the cashflows of the trade were settled.\n",
    "\n",
    "In the market, we observe the following:\n",
    "* The 5-year swap rate is 2.58%.\n",
    "* The 5-year Treasury has a yield-to-maturity (semiannually compounded) of 3.18%. Equivalently, the 5-year with coupon 3.18% is trading at par.\n",
    "\n",
    "Would you rather close out this trade or add to it, (increase the size of it at today's rates?)\n",
    "\n",
    "*Answer conceptually, no serious calculation needed.*"
   ]
  },
  {
   "cell_type": "markdown",
   "id": "0acf842f",
   "metadata": {},
   "source": [
    "## 3\n",
    "\n",
    "Suppose that you are told you need to unwind the trade for external reasons, (capital budgeting, etc.)\n",
    "\n",
    "**Answer conceptually...\n",
    "\n",
    "How has the value changed between Aug 2020 and Aug 2022?\n",
    "* swap \n",
    "* T-note\n",
    "\n",
    "\n",
    "## 3.X.\n",
    "\n",
    "*As an extra question...there is a Fixed Income course that will get deeper into this, but feel free to try it out now.*\n",
    "\n",
    "Try to quantitatively price the swap and the T-note.\n",
    "\n",
    "What is the Aug 15, 2022 price of\n",
    "* the swap (5 years remaining)\n",
    "* the T-note (5 years remaining)\n",
    "\n",
    "\n",
    "#### Hint:\n",
    "* Price the T-note with the 2022 YTM.\n",
    "* Price the swap.\n",
    "    * Use the 2022 swap rate as a discount factor.\n",
    "    * Use the 2020 swap rate as the coupon rate for the fixed leg.\n",
    "    * Use the 2022 swap rate as the coupon rate for the floating leg. \n",
    "    * The swap rate and yield-to-maturity formula will price the fixed portion."
   ]
  },
  {
   "cell_type": "markdown",
   "id": "cdfccca4",
   "metadata": {},
   "source": [
    "## 4.\n",
    "\n",
    "Was this a good trade?\n",
    "* if unwound in Aug 2022?\n",
    "* if held to maturity of Aug 2027?\n",
    "\n",
    "What was the major risk of this trade as of August 2020?\n",
    "* How did this risk play out?"
   ]
  },
  {
   "cell_type": "markdown",
   "id": "a38cece9",
   "metadata": {},
   "source": [
    "# 5\n",
    "\n",
    "How would this analysis change if we considered...\n",
    "* the haircut on the repo?\n",
    "* the rollover of the repo?"
   ]
  }
 ],
 "metadata": {
  "hide_input": false,
  "kernelspec": {
   "display_name": "Python 3 (ipykernel)",
   "language": "python",
   "name": "python3"
  },
  "language_info": {
   "codemirror_mode": {
    "name": "ipython",
    "version": 3
   },
   "file_extension": ".py",
   "mimetype": "text/x-python",
   "name": "python",
   "nbconvert_exporter": "python",
   "pygments_lexer": "ipython3",
   "version": "3.9.7"
  }
 },
 "nbformat": 4,
 "nbformat_minor": 5
}
