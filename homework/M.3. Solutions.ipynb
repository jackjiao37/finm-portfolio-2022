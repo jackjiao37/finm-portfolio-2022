{
 "cells": [
  {
   "cell_type": "markdown",
   "id": "f7605588",
   "metadata": {},
   "source": [
    "# M.3. Solutions\n",
    "\n",
    "## Markets Foundations\n",
    "\n",
    "### UChicago Financial Mathematics\n",
    "\n",
    "#### September 2022\n",
    "\n",
    "* Mark Hendricks\n",
    "* hendricks@uchicago.edu\n",
    "\n",
    "#### This assignment is not submitted, graded, or for credit. \n",
    "Rather, it is assigned for learning purposes."
   ]
  },
  {
   "cell_type": "markdown",
   "id": "c4f31467",
   "metadata": {},
   "source": [
    "# Swap Spread Trade\n",
    "\n",
    "Suppose it is Aug 15, 2020. We observe the following annual rates, (semiannually compounded):\n",
    "* 7-year T-note (newly issued) has a price of par, with a coupon of 0.50%.\n",
    "* 7-year swap (semi-annual, SOFR) has a swap rate of 0.25%.\n",
    "\n",
    "\n",
    "Set up the following **swap spread trade** on notional of \\$200 million.\n",
    "* repo the 7-year treasury bond\n",
    "    - Buy treasuries, immediately repo them. \n",
    "    - Thus, you are receiving the T-note coupon, paying the repo rate (SOFR). \n",
    "* enter long a 7-year SOFR swap\n",
    "    - Pay the swap rate, receive SOFR. \n",
    "\n",
    "Simplifications:\n",
    "* No haircut on the repo. Thus, no capital is being used.\n",
    "* The swap is a semiannual swap, based on SOFR, without any spread. \n",
    "* The repo is 6-month terms, rolled over, with the same timing of the swap. i.e. You pay the repo rate (SOFR) on the same days you receive the SOFR swap payment (SOFR). So these cancel out. \n",
    "*  Assume that no matter what happens to the bond price, you are able to roll over the repo financing. Thus, there is no need to consider the pricing or financing in the interim.\n",
    "* No counterparty risk in the swap or the repo.\n",
    "* The calendar works out to be exactly six month intervals from Aug 15, 2020."
   ]
  },
  {
   "cell_type": "markdown",
   "id": "1ae4b149",
   "metadata": {},
   "source": [
    "## 1\n",
    "\n",
    "List the cashflows over the first two years of this trade, through Aug 15, 2022. \n",
    "\n",
    "*No need to worry about exact dates, just consider four 6-month intervals.*"
   ]
  },
  {
   "cell_type": "markdown",
   "id": "8e662648",
   "metadata": {},
   "source": [
    "## 2\n",
    "\n",
    "Suppose that it is August 15, 2022, immediately after the swap has reset and the cashflows of the trade were settled.\n",
    "\n",
    "In the market, we observe the following:\n",
    "* The 5-year swap rate is 2.58%.\n",
    "* The 5-year Treasury has a yield-to-maturity (semiannually compounded) of 3.18%. Equivalently, the 5-year with coupon 3.18% is trading at par.\n",
    "\n",
    "Would you rather close out this trade or add to it, (increase the size of it at today's rates?)\n",
    "\n",
    "*Answer conceptually, no serious calculation needed.*"
   ]
  },
  {
   "cell_type": "markdown",
   "id": "0acf842f",
   "metadata": {},
   "source": [
    "## 3\n",
    "\n",
    "Suppose that you are told you need to unwind the trade for external reasons, (capital budgeting, etc.)\n",
    "\n",
    "**Answer conceptually...\n",
    "\n",
    "How has the value changed between Aug 2020 and Aug 2022?\n",
    "* swap \n",
    "* T-note\n",
    "\n",
    "\n",
    "## 3.X.\n",
    "\n",
    "*As an extra question...there is a Fixed Income course that will get deeper into this, but feel free to try it out now.*\n",
    "\n",
    "Try to quantitatively price the swap and the T-note.\n",
    "\n",
    "What is the Aug 15, 2022 price of\n",
    "* the swap (5 years remaining)\n",
    "* the T-note (5 years remaining)\n",
    "\n",
    "\n",
    "#### Hint:\n",
    "* Price the T-note with the 2022 YTM.\n",
    "* Price the swap.\n",
    "    * Use the 2022 swap rate as a discount factor.\n",
    "    * Use the 2020 swap rate as the coupon rate for the fixed leg.\n",
    "    * Use the 2022 swap rate as the coupon rate for the floating leg. \n",
    "    * The swap rate and yield-to-maturity formula will price the fixed portion."
   ]
  },
  {
   "cell_type": "markdown",
   "id": "cdfccca4",
   "metadata": {},
   "source": [
    "## 4.\n",
    "\n",
    "Was this a good trade?\n",
    "* if unwound in Aug 2022?\n",
    "* if held to maturity of Aug 2027?\n",
    "\n",
    "What was the major risk of this trade as of August 2020?\n",
    "* How did this risk play out?"
   ]
  },
  {
   "cell_type": "markdown",
   "id": "a38cece9",
   "metadata": {},
   "source": [
    "# 5\n",
    "\n",
    "How would this analysis change if we considered...\n",
    "* the haircut on the repo?\n",
    "* the rollover of the repo?"
   ]
  },
  {
   "cell_type": "markdown",
   "id": "fac4762f",
   "metadata": {},
   "source": [
    "***"
   ]
  },
  {
   "cell_type": "markdown",
   "id": "a77c2e5b",
   "metadata": {},
   "source": [
    "# <span style=\"color:red\">Solution 1</span>"
   ]
  },
  {
   "cell_type": "code",
   "execution_count": 1,
   "id": "6d68bd99",
   "metadata": {},
   "outputs": [],
   "source": [
    "import pandas as pd\n",
    "import numpy as np"
   ]
  },
  {
   "cell_type": "code",
   "execution_count": 2,
   "id": "89a9d51d",
   "metadata": {},
   "outputs": [],
   "source": [
    "CF = pd.DataFrame(index=['T-note','Repo','Swap (floating leg)','Swap (fixed leg)'],columns=['Feb 2021','Aug 2021','Feb 2022','Aug 2022'],dtype=float)\n",
    "NOTIONAL = 200e6\n",
    "CPNRATE = [0.005, .0318]\n",
    "SWAPRATE = [.0025, .0258]"
   ]
  },
  {
   "cell_type": "markdown",
   "id": "e9a35c3d",
   "metadata": {},
   "source": [
    "## <span style=\"color:red\">1</span>"
   ]
  },
  {
   "cell_type": "code",
   "execution_count": 3,
   "id": "b3bbfd69",
   "metadata": {},
   "outputs": [
    {
     "data": {
      "text/html": [
       "<style type=\"text/css\">\n",
       "</style>\n",
       "<table id=\"T_6f4fb\">\n",
       "  <thead>\n",
       "    <tr>\n",
       "      <th class=\"blank level0\" >&nbsp;</th>\n",
       "      <th id=\"T_6f4fb_level0_col0\" class=\"col_heading level0 col0\" >Feb 2021</th>\n",
       "      <th id=\"T_6f4fb_level0_col1\" class=\"col_heading level0 col1\" >Aug 2021</th>\n",
       "      <th id=\"T_6f4fb_level0_col2\" class=\"col_heading level0 col2\" >Feb 2022</th>\n",
       "      <th id=\"T_6f4fb_level0_col3\" class=\"col_heading level0 col3\" >Aug 2022</th>\n",
       "    </tr>\n",
       "  </thead>\n",
       "  <tbody>\n",
       "    <tr>\n",
       "      <th id=\"T_6f4fb_level0_row0\" class=\"row_heading level0 row0\" >T-note</th>\n",
       "      <td id=\"T_6f4fb_row0_col0\" class=\"data row0 col0\" >$500,000.00</td>\n",
       "      <td id=\"T_6f4fb_row0_col1\" class=\"data row0 col1\" >$500,000.00</td>\n",
       "      <td id=\"T_6f4fb_row0_col2\" class=\"data row0 col2\" >$500,000.00</td>\n",
       "      <td id=\"T_6f4fb_row0_col3\" class=\"data row0 col3\" >$500,000.00</td>\n",
       "    </tr>\n",
       "    <tr>\n",
       "      <th id=\"T_6f4fb_level0_row1\" class=\"row_heading level0 row1\" >Repo</th>\n",
       "      <td id=\"T_6f4fb_row1_col0\" class=\"data row1 col0\" >$nan</td>\n",
       "      <td id=\"T_6f4fb_row1_col1\" class=\"data row1 col1\" >$nan</td>\n",
       "      <td id=\"T_6f4fb_row1_col2\" class=\"data row1 col2\" >$nan</td>\n",
       "      <td id=\"T_6f4fb_row1_col3\" class=\"data row1 col3\" >$nan</td>\n",
       "    </tr>\n",
       "    <tr>\n",
       "      <th id=\"T_6f4fb_level0_row2\" class=\"row_heading level0 row2\" >Swap (floating leg)</th>\n",
       "      <td id=\"T_6f4fb_row2_col0\" class=\"data row2 col0\" >$nan</td>\n",
       "      <td id=\"T_6f4fb_row2_col1\" class=\"data row2 col1\" >$nan</td>\n",
       "      <td id=\"T_6f4fb_row2_col2\" class=\"data row2 col2\" >$nan</td>\n",
       "      <td id=\"T_6f4fb_row2_col3\" class=\"data row2 col3\" >$nan</td>\n",
       "    </tr>\n",
       "    <tr>\n",
       "      <th id=\"T_6f4fb_level0_row3\" class=\"row_heading level0 row3\" >Swap (fixed leg)</th>\n",
       "      <td id=\"T_6f4fb_row3_col0\" class=\"data row3 col0\" >$-250,000.00</td>\n",
       "      <td id=\"T_6f4fb_row3_col1\" class=\"data row3 col1\" >$-250,000.00</td>\n",
       "      <td id=\"T_6f4fb_row3_col2\" class=\"data row3 col2\" >$-250,000.00</td>\n",
       "      <td id=\"T_6f4fb_row3_col3\" class=\"data row3 col3\" >$-250,000.00</td>\n",
       "    </tr>\n",
       "    <tr>\n",
       "      <th id=\"T_6f4fb_level0_row4\" class=\"row_heading level0 row4\" >Net Payment</th>\n",
       "      <td id=\"T_6f4fb_row4_col0\" class=\"data row4 col0\" >$250,000.00</td>\n",
       "      <td id=\"T_6f4fb_row4_col1\" class=\"data row4 col1\" >$250,000.00</td>\n",
       "      <td id=\"T_6f4fb_row4_col2\" class=\"data row4 col2\" >$250,000.00</td>\n",
       "      <td id=\"T_6f4fb_row4_col3\" class=\"data row4 col3\" >$250,000.00</td>\n",
       "    </tr>\n",
       "  </tbody>\n",
       "</table>\n"
      ],
      "text/plain": [
       "<pandas.io.formats.style.Styler at 0x1220c1d00>"
      ]
     },
     "execution_count": 3,
     "metadata": {},
     "output_type": "execute_result"
    }
   ],
   "source": [
    "# SOFR rate will cancel, so it is irrelevant\n",
    "SOFR = np.nan\n",
    "\n",
    "CF.loc['Repo'] -SOFR\n",
    "CF.loc['Swap (floating leg)'] = SOFR\n",
    "CF.loc[['T-note']] = NOTIONAL * CPNRATE[0] /2\n",
    "CF.loc[['Swap (fixed leg)']] = -NOTIONAL * SWAPRATE[0]/2\n",
    "CF.loc['Net Payment'] = CF.sum(axis=0)\n",
    "CF.style.format('${:,.2f}')"
   ]
  },
  {
   "cell_type": "markdown",
   "id": "7c42f635",
   "metadata": {},
   "source": [
    "## <span style=\"color:red\">2</span>\n",
    "\n",
    "We should like to add to this position.\n",
    "* The spread in the Treasury yield over the swap rate is even larger now.\n",
    "* The rising yields mean the treasury price has dropped, but that its expected return going forward has risen. \n",
    "\n",
    "Together this means it is a bad time to unwind."
   ]
  },
  {
   "cell_type": "code",
   "execution_count": 4,
   "id": "f88d6a98",
   "metadata": {},
   "outputs": [
    {
     "data": {
      "text/html": [
       "<style type=\"text/css\">\n",
       "</style>\n",
       "<table id=\"T_fe16e\">\n",
       "  <thead>\n",
       "    <tr>\n",
       "      <th class=\"blank level0\" >&nbsp;</th>\n",
       "      <th id=\"T_fe16e_level0_col0\" class=\"col_heading level0 col0\" >Aug 2020</th>\n",
       "      <th id=\"T_fe16e_level0_col1\" class=\"col_heading level0 col1\" >Aug 2022</th>\n",
       "    </tr>\n",
       "  </thead>\n",
       "  <tbody>\n",
       "    <tr>\n",
       "      <th id=\"T_fe16e_level0_row0\" class=\"row_heading level0 row0\" >coupon rate</th>\n",
       "      <td id=\"T_fe16e_row0_col0\" class=\"data row0 col0\" >0.50%</td>\n",
       "      <td id=\"T_fe16e_row0_col1\" class=\"data row0 col1\" >3.18%</td>\n",
       "    </tr>\n",
       "    <tr>\n",
       "      <th id=\"T_fe16e_level0_row1\" class=\"row_heading level0 row1\" >swap rate</th>\n",
       "      <td id=\"T_fe16e_row1_col0\" class=\"data row1 col0\" >0.25%</td>\n",
       "      <td id=\"T_fe16e_row1_col1\" class=\"data row1 col1\" >2.58%</td>\n",
       "    </tr>\n",
       "    <tr>\n",
       "      <th id=\"T_fe16e_level0_row2\" class=\"row_heading level0 row2\" >spread</th>\n",
       "      <td id=\"T_fe16e_row2_col0\" class=\"data row2 col0\" >0.25%</td>\n",
       "      <td id=\"T_fe16e_row2_col1\" class=\"data row2 col1\" >0.60%</td>\n",
       "    </tr>\n",
       "  </tbody>\n",
       "</table>\n"
      ],
      "text/plain": [
       "<pandas.io.formats.style.Styler at 0x123443d00>"
      ]
     },
     "execution_count": 4,
     "metadata": {},
     "output_type": "execute_result"
    }
   ],
   "source": [
    "summary = pd.DataFrame(index=['coupon rate','swap rate','spread'],columns = ['Aug 2020','Aug 2022'],dtype=float)\n",
    "summary.loc['coupon rate'] = CPNRATE\n",
    "summary.loc['swap rate'] = SWAPRATE\n",
    "summary.loc['spread'] = summary.loc['coupon rate'] - summary.loc['swap rate']\n",
    "summary.style.format('{:.2%}')"
   ]
  },
  {
   "cell_type": "markdown",
   "id": "3690f4e3",
   "metadata": {},
   "source": [
    "## <span style=\"color:red\">3</span>"
   ]
  },
  {
   "cell_type": "markdown",
   "id": "58b869a3",
   "metadata": {},
   "source": [
    "T-note\n",
    "* value has decreased as rates (seen in Aug 2020 vs Aug 2022 YTM) have increased.\n",
    "\n",
    "Swap\n",
    "* our liability of the fixed leg has decreased for same reason as T-note\n",
    "* our asset of the floating leg has increased in value as rates have increased\n",
    "\n",
    "Net\n",
    "* Depends on which is bigger--loss on the long T-note or gain on the paying swap"
   ]
  },
  {
   "cell_type": "markdown",
   "id": "2111368e",
   "metadata": {},
   "source": [
    "## <span style=\"color:red\">4.</span>"
   ]
  },
  {
   "cell_type": "markdown",
   "id": "e776ad7f",
   "metadata": {},
   "source": [
    "#### If unwound Aug 2022\n",
    "The trade is unfavorable. Though the spread has been good for two years, the pricing environment is adverse--rates have moved up more on treasuries (long, asset) than on the fixed leg of the swap (short, liability). This means that the long position's price will have gone down more than the short position's price will have gone up.\n",
    "\n",
    "Conceptually, the capital loss will undermine (and in this case overwhelm) the income over the two years.\n",
    "\n",
    "#### If held to maturity\n",
    "The trade will generate a positive income.\n",
    "\n",
    "Thus, if we are sure we can hold to maturity, then it will be a profitable trade, (so long as we think there is no difference in credit risk between the two sides of the position.)\n",
    "\n",
    "#### If entered in Aug 2022\n",
    "\n",
    "It would be even more attractive than when entered in Aug 2020--the spread is wider. "
   ]
  },
  {
   "cell_type": "markdown",
   "id": "bfdac781",
   "metadata": {},
   "source": [
    "## <span style=\"color:red\">5.</span>"
   ]
  },
  {
   "cell_type": "markdown",
   "id": "a63a0612",
   "metadata": {},
   "source": [
    "#### Haircut\n",
    "\n",
    "If we consider the haircut, then taking the position in 2020 will require 2\\% of capital invested... \\\\$4mm.\n",
    "\n",
    "#### Rolling over the repo\n",
    "\n",
    "If we roll over the repo daily, then the daily fluctuations in the T-note's price will be a source / use of capital."
   ]
  },
  {
   "cell_type": "markdown",
   "id": "b842244e",
   "metadata": {},
   "source": [
    "## <span style=\"color:red\">3.X.</span>"
   ]
  },
  {
   "cell_type": "markdown",
   "id": "c2a19ac2",
   "metadata": {},
   "source": [
    "### Caveat\n",
    "\n",
    "An exact solution would require mathematical modeling you can learn in another course. Below is an approximate solution just using yields and swap rates.\n",
    "\n",
    "#### T-note\n",
    "\n",
    "The T-note can be calculated using the current (Aug 2022) yield-to-maturity for a 5-year horizon.\n",
    "\n",
    "$$P_{\\text{Tnote}}^{(5)} = \\frac{y_{2020}}{2}N\\sum_{i=1}^{10} \\left(\\frac{1}{1+\\frac{y_{2022}}{2}}\\right)^{i} + N \\left(\\frac{1}{1+\\frac{y_{2022}}{2}}\\right)^{10}$$\n",
    "where\n",
    "* $N$ is the notional (face value)\n",
    "* $y_{2020}$ is the treasury coupon rate, (also the YTM) in August 2020, .0050."
   ]
  },
  {
   "cell_type": "markdown",
   "id": "38da90dd",
   "metadata": {},
   "source": [
    "#### Fixed Leg of Swap\n",
    "\n",
    "The swap can be decomposed into a coupon bond (with coupon equal to the issued swap rate,) and a floating rate bond.\n",
    "\n",
    "The fixed leg of the swap can be valued as the T-note, but using the swap rate instead of the coupon rate.\n",
    "\n",
    "$$P_{\\text{swap fixed}}^{(5)} = \\frac{s_{2020}}{2}N\\sum_{i=1}^{10} \\left(\\frac{1}{1+\\frac{s_{2022}}{2}}\\right)^i + N\\left(\\frac{1}{1+\\frac{s_{2022}}{2}}\\right)^{10}$$\n",
    "\n",
    "where\n",
    "* $N$ is the notional (face value).\n",
    "* $s_{\\text{2020}}$ is the contracted (Aug 2020) swap rate.\n",
    "* $s_{\\text{2022}}$ is the (Aug 2022) swap rate."
   ]
  },
  {
   "cell_type": "markdown",
   "id": "34aaa377",
   "metadata": {},
   "source": [
    "#### Floating Rates\n",
    "\n",
    "The value of the floating leg can be computed from the current (Aug 2022) swap pricing, as we know it must equal the fixed leg at that date:\n",
    "\n",
    "$$P_{\\text{swap floating}}^{(5)} = \\frac{s_{2022}}{2}N\\sum_{i=1}^{10} \\left(\\frac{1}{1+\\frac{s_{2022}}{2}}\\right)^i  + N\\left(\\frac{1}{1+\\frac{s_{2022}}{2}}\\right)^{10}$$\n",
    "\n",
    "#### Repo\n",
    "\n",
    "This is also equal to the repo. Thus, the floating leg and repo cancel.\n",
    "\n",
    "$$P_{\\text{repo}}^{(5)} = \\frac{s_{2022}}{2}N\\sum_{i=1}^{10} \\left(\\frac{1}{1+\\frac{s_{2022}}{2}}\\right)^i  + N\\left(\\frac{1}{1+\\frac{s_{2022}}{2}}\\right)^{10}$$"
   ]
  },
  {
   "cell_type": "code",
   "execution_count": 5,
   "id": "484c62ab",
   "metadata": {},
   "outputs": [
    {
     "data": {
      "text/html": [
       "<style type=\"text/css\">\n",
       "</style>\n",
       "<table id=\"T_e2c10\">\n",
       "  <thead>\n",
       "    <tr>\n",
       "      <th class=\"blank level0\" >&nbsp;</th>\n",
       "      <th id=\"T_e2c10_level0_col0\" class=\"col_heading level0 col0\" >Aug 2022</th>\n",
       "    </tr>\n",
       "  </thead>\n",
       "  <tbody>\n",
       "    <tr>\n",
       "      <th id=\"T_e2c10_level0_row0\" class=\"row_heading level0 row0\" >Repo</th>\n",
       "      <td id=\"T_e2c10_row0_col0\" class=\"data row0 col0\" >$-200,000,000.00</td>\n",
       "    </tr>\n",
       "    <tr>\n",
       "      <th id=\"T_e2c10_level0_row1\" class=\"row_heading level0 row1\" >T-note</th>\n",
       "      <td id=\"T_e2c10_row1_col0\" class=\"data row1 col0\" >$175,401,975.97</td>\n",
       "    </tr>\n",
       "    <tr>\n",
       "      <th id=\"T_e2c10_level0_row2\" class=\"row_heading level0 row2\" >swap float</th>\n",
       "      <td id=\"T_e2c10_row2_col0\" class=\"data row2 col0\" >$200,000,000.00</td>\n",
       "    </tr>\n",
       "    <tr>\n",
       "      <th id=\"T_e2c10_level0_row3\" class=\"row_heading level0 row3\" >swap fixed</th>\n",
       "      <td id=\"T_e2c10_row3_col0\" class=\"data row3 col0\" >$-178,271,284.38</td>\n",
       "    </tr>\n",
       "    <tr>\n",
       "      <th id=\"T_e2c10_level0_row4\" class=\"row_heading level0 row4\" >net position</th>\n",
       "      <td id=\"T_e2c10_row4_col0\" class=\"data row4 col0\" >$-2,869,308.41</td>\n",
       "    </tr>\n",
       "  </tbody>\n",
       "</table>\n"
      ],
      "text/plain": [
       "<pandas.io.formats.style.Styler at 0x1234583d0>"
      ]
     },
     "execution_count": 5,
     "metadata": {},
     "output_type": "execute_result"
    }
   ],
   "source": [
    "Z = pd.DataFrame(index = np.arange(.5,5.5,.5))\n",
    "\n",
    "#Z['ytm 2020'] = 1 / ((1+CPNRATE[0]/2)**np.arange(1,11,1))\n",
    "Z['ytm 2022'] = 1 / ((1+CPNRATE[1]/2)**np.arange(1,11,1))\n",
    "Z['swap 2022'] = 1 / ((1+SWAPRATE[1]/2)**np.arange(1,11,1))\n",
    "\n",
    "PV = pd.Series(dtype=float)\n",
    "PV.loc['Repo'] = - (CPNRATE[1]/2 * Z['ytm 2022'].sum() + Z.loc[5,'ytm 2022'])\n",
    "PV.loc['T-note'] = (CPNRATE[0]/2 * Z['ytm 2022'].sum() + Z.loc[5,'ytm 2022'])\n",
    "PV.loc['swap float'] = (Z['swap 2022'].sum() * SWAPRATE[1]/2 + Z.loc[5,'swap 2022'])\n",
    "PV.loc['swap fixed'] = -(Z['swap 2022'].sum() * SWAPRATE[0]/2 + Z.loc[5,'swap 2022'])\n",
    "\n",
    "PV.loc['net position'] = PV.sum()\n",
    "\n",
    "PV *= NOTIONAL\n",
    "PV = PV.to_frame('Aug 2022')\n",
    "PV.style.format('${:,.2f}')"
   ]
  }
 ],
 "metadata": {
  "hide_input": false,
  "kernelspec": {
   "display_name": "Python 3 (ipykernel)",
   "language": "python",
   "name": "python3"
  },
  "language_info": {
   "codemirror_mode": {
    "name": "ipython",
    "version": 3
   },
   "file_extension": ".py",
   "mimetype": "text/x-python",
   "name": "python",
   "nbconvert_exporter": "python",
   "pygments_lexer": "ipython3",
   "version": "3.9.7"
  }
 },
 "nbformat": 4,
 "nbformat_minor": 5
}
