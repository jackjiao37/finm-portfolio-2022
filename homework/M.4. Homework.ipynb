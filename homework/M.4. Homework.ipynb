{
 "cells": [
  {
   "cell_type": "markdown",
   "id": "f7605588",
   "metadata": {},
   "source": [
    "# M.4. Homework\n",
    "\n",
    "## Markets Foundations\n",
    "\n",
    "### UChicago Financial Mathematics\n",
    "\n",
    "#### September 2022\n",
    "\n",
    "* Mark Hendricks\n",
    "* hendricks@uchicago.edu\n",
    "\n",
    "#### This assignment is not submitted, graded, or for credit. \n",
    "Rather, it is assigned for learning purposes."
   ]
  },
  {
   "cell_type": "markdown",
   "id": "2d60a5f9",
   "metadata": {},
   "source": [
    "$\\newcommand{\\rUSD}{r^{\\text{US}}}$\n",
    "$\\newcommand{\\rGBP}{r^{\\text{GBP}}}$\n",
    "$\\newcommand{\\rxGBP}{\\widetilde{r}^{\\text{GBP}}}$"
   ]
  },
  {
   "cell_type": "markdown",
   "id": "beb746ad",
   "metadata": {},
   "source": [
    "# 1 Stack and Roll"
   ]
  },
  {
   "cell_type": "markdown",
   "id": "2745f4d0",
   "metadata": {},
   "source": [
    "Use the data in `data/futures_data.xlsx`"
   ]
  },
  {
   "cell_type": "markdown",
   "id": "9a711a18",
   "metadata": {},
   "source": [
    "### 1.1\n",
    "\n",
    "The time-series data in `futures timeseries` has price data on 4 different crude oil contracts.\n",
    "\n",
    "Consider a **stack and roll** strategy. \n",
    "* Suppose on **November 15, 2021** an investor buys 100 contracts of oil futures, \"CLG2\", using end-of-day Nov 15, 2021 prices, and noting the contract size listed in the `futures contracts` tab. \n",
    "\n",
    "* On the final day of a reported price, (Jan 20, 2022 in this case,) sell the contracts at the listed price. Keep track of the daily profit or loss.\n",
    "* **Roll** into the next contract, \"CLJ2\", buying in at the Jan 20, 2022 price.\n",
    "* Hold this until rolling into CLM2, and finally CLQ2.\n",
    "* At each roll, buy 100 contracts.\n",
    "* Close out CLQ2 on June 30, 2022.\n",
    "\n",
    "Plot the timeseries of cumulative profit and loss.\n",
    "* Do not consider as a loss (profit) the additional capital contributed (withdrawn) at the roll.\n",
    "\n",
    "Report the mean daily profit as well as the cumulative total."
   ]
  },
  {
   "cell_type": "markdown",
   "id": "cceae553",
   "metadata": {},
   "source": [
    "### 1.2\n",
    "\n",
    "From the tab `roll conventions CL`, use the series, `CL1`. \n",
    "\n",
    "Assume this is a proxy for the stack and roll strategy above.\n",
    "* scale it by the contract size (1000)\n",
    "* calculate the day-over-day differences as profit (loss).\n",
    "\n",
    "Does it match your answer in 1.1? Why not?\n",
    "\n",
    "### 1.3\n",
    "Would any of the alternate continuous contracts in the `roll conventions CL` tab be appropriate to proxy the stack-and-roll strategy?"
   ]
  },
  {
   "cell_type": "markdown",
   "id": "fbcf0ca0",
   "metadata": {},
   "source": [
    "***"
   ]
  },
  {
   "cell_type": "markdown",
   "id": "78eb3d2a",
   "metadata": {},
   "source": [
    "## 2 Margin and Capital"
   ]
  },
  {
   "cell_type": "markdown",
   "id": "02e25bab",
   "metadata": {},
   "source": [
    "Reconsider the stack and roll of Problem 1, but this time keep track of the margin account. Assume that...\n",
    "* when purchasing the contracts, an initial margin of \\\\$10,000 per contract is paid into the margin account, (not the entire purchase price!)\n",
    "* if the margin account goes below \\\\$9,000 per contract, you must pay additional capital to raise the margin back to \\\\$9,000 per contract..\n",
    "* if the margin account goes above \\\\$11,000 per contract, you take out the additional capital to lower the margin back to \\\\$11,000 per contract. \n",
    "* at the roll, add in (or take out) capital such that the margin account resets to the initial margin of \\\\$10,000 per contract.\n",
    "\n",
    "*This is a conceptually simple problem, but setting it up correctly in python may be challenging. Consider starting with a spreadsheet.*"
   ]
  },
  {
   "cell_type": "markdown",
   "id": "eab387e0",
   "metadata": {},
   "source": [
    "### 2.1\n",
    "\n",
    "Plot the timeseries of the margin account.\n",
    "\n",
    "How many times is there a margin call to continue the contract position? (This does not include rolling contracts.)"
   ]
  },
  {
   "cell_type": "markdown",
   "id": "2b711330",
   "metadata": {},
   "source": [
    "### 2.2\n",
    "\n",
    "Consider two measures of total return on this strategy.\n",
    "\n",
    "$$\\text{return} = \\frac{\\text{total profit}}{\\text{initial capital}}$$\n",
    "\n",
    "where we measure the \"initial capital\" as...\n",
    "* total price of the 100 contracts of \"CLG2\" as paid in 1.1\n",
    "* initial margin for the 100 contracts, as calculated in 1.3.\n",
    "\n",
    "Ignore the fact that additional capital may have been paid in on the rolls.\n",
    "\n",
    "How does the margin system change the total return?"
   ]
  },
  {
   "cell_type": "markdown",
   "id": "2c9d9285",
   "metadata": {},
   "source": [
    "### 2.3\n",
    "\n",
    "Reconsider the calculation of profit from Problem 1.\n",
    "\n",
    "When the contract rolls, the investor may need to pay in additional capital to keep the 100 contracts. Consider this a loss.\n",
    "\n",
    "On the other hand, if rolling into the new contract frees up capital, consider this a profift.\n",
    "\n",
    "1. How does this change the total profit (loss)?\n",
    "1. How does this change the total return defined above?\n",
    "1. Do you think this roll capital should be considered P&L (profit and loss?)"
   ]
  },
  {
   "cell_type": "markdown",
   "id": "c5fd7654",
   "metadata": {},
   "source": [
    "## 3 Dynamic Sizing\n",
    "\n",
    "Analyze the investment strategy from Section 1-2 above, but this time assuming that \n",
    "* total capital is rolled at each contract, rather than always resetting to a constant 100 contracts.\n",
    "* the capital is used to purchase as many new contracts as possible, and the remainder sits as cash, (earning no interest,) and available for deployment on the next roll.\n",
    "* the initial margin is 10\\% of the contract value at the time of the roll, the maintenance margin is 9\\% and the excess margin is 11\\%"
   ]
  }
 ],
 "metadata": {
  "hide_input": false,
  "kernelspec": {
   "display_name": "Python 3 (ipykernel)",
   "language": "python",
   "name": "python3"
  },
  "language_info": {
   "codemirror_mode": {
    "name": "ipython",
    "version": 3
   },
   "file_extension": ".py",
   "mimetype": "text/x-python",
   "name": "python",
   "nbconvert_exporter": "python",
   "pygments_lexer": "ipython3",
   "version": "3.9.7"
  }
 },
 "nbformat": 4,
 "nbformat_minor": 5
}
