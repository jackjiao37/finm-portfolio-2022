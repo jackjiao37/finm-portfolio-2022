{
 "cells": [
  {
   "cell_type": "markdown",
   "id": "e3933ad6",
   "metadata": {},
   "source": [
    "# Homework 2 - Solution\n",
    "## Markets\n",
    "### FINM September Launch\n",
    "\n",
    "Mark Hendricks\n",
    "\n",
    "hendricks@uchicago.edu\n",
    "\n",
    "Maneet Singh - TA\n",
    "\n",
    "maneetsingh@uchicago.edu"
   ]
  },
  {
   "cell_type": "markdown",
   "id": "24be0daa",
   "metadata": {},
   "source": [
    "## Data\n",
    "- This homework uses the file, “inflation_data.xlsx”.\n",
    "- Find the data in the Github repo associated with the module, (link on Canvas.)\n",
    "\n",
    "\n",
    "The data file contains...\n",
    "\n",
    "- Macroeconomic Data\n",
    "    \n",
    "    - Core CPI price index, denoted as p.\n",
    "    \n",
    "    - M2 Money Supply, denoted as m.\n",
    "\n",
    "- Financial data\n",
    "\n",
    "- Returns on the S&P 500, (via the SPY ETF)\n",
    "\n",
    "\n",
    "See the “build data” folder for the details on how the data was constructed."
   ]
  },
  {
   "cell_type": "code",
   "execution_count": 1,
   "id": "40388f82",
   "metadata": {},
   "outputs": [],
   "source": [
    "import pandas as pd\n",
    "import datetime\n",
    "\n",
    "import numpy as np\n",
    "import warnings\n",
    "\n",
    "from sklearn.linear_model import LinearRegression\n",
    "\n",
    "import statsmodels.api as sm\n",
    "\n",
    "import matplotlib.pyplot as plt\n",
    "%matplotlib inline\n",
    "plt.rcParams['figure.figsize'] = (12,6)\n",
    "plt.rcParams['font.size'] = 15\n",
    "plt.rcParams['legend.fontsize'] = 13\n",
    "\n",
    "from matplotlib.ticker import (MultipleLocator,\n",
    "                               StrMethodFormatter,\n",
    "                               AutoMinorLocator)"
   ]
  },
  {
   "cell_type": "code",
   "execution_count": 2,
   "id": "64cd7392",
   "metadata": {},
   "outputs": [],
   "source": [
    "data = pd.read_excel('../data/inflation_data.xlsx',sheet_name='macro')\n",
    "prices = data['CPI']\n",
    "money = data['M2']\n",
    "\n",
    "FREQ = 12"
   ]
  },
  {
   "cell_type": "markdown",
   "id": "01c1a38a",
   "metadata": {},
   "source": [
    "## 1. Assessing the OLS Model\n",
    "\n",
    "This problem considers the predictability of inflation over various horizons. To do so, note the following:\n",
    "\n",
    "- $i_{t,t+h}$: Inflation is the h-period growth rate of CPI:\n",
    "\n",
    "$$\n",
    "i_{t,t+h} ≡ \\frac{p_{t+h}}{p_t} − 1\n",
    "$$\n",
    "\n",
    "\n",
    "- $g_{t,t+h}$: Money growth considered below is the growth rate of M2 Money supply:\n",
    "\n",
    "$$\n",
    "g_{t,t+h} ≡ \\frac{m_{t+h}}{m_t}− 1\n",
    "$$"
   ]
  },
  {
   "cell_type": "markdown",
   "id": "bafdad7f",
   "metadata": {},
   "source": [
    "1. Estimate an OLS regression to see if CPI and Money are contemporaneously correlated:\n",
    "\n",
    "$$\n",
    "p_t = \\alpha + \\beta m_t + \\epsilon_t\n",
    "$$\n",
    "\n",
    "    - Note that this is not a lagged regression, but rather a regular time-series regression.\n",
    "    - Answer the questions below for a one-year horizon: h = 12.\n",
    "    \n",
    "    (a) Report the estimated R-squared.\n",
    "    (b) Report the point-estimate of β."
   ]
  },
  {
   "cell_type": "code",
   "execution_count": 3,
   "id": "e4fdadd2",
   "metadata": {},
   "outputs": [
    {
     "data": {
      "text/html": [
       "<table class=\"simpletable\">\n",
       "<caption>OLS Regression Results</caption>\n",
       "<tr>\n",
       "  <th>Dep. Variable:</th>           <td>CPI</td>       <th>  R-squared:         </th> <td>   0.827</td> \n",
       "</tr>\n",
       "<tr>\n",
       "  <th>Model:</th>                   <td>OLS</td>       <th>  Adj. R-squared:    </th> <td>   0.827</td> \n",
       "</tr>\n",
       "<tr>\n",
       "  <th>Method:</th>             <td>Least Squares</td>  <th>  F-statistic:       </th> <td>   3618.</td> \n",
       "</tr>\n",
       "<tr>\n",
       "  <th>Date:</th>             <td>Thu, 15 Sep 2022</td> <th>  Prob (F-statistic):</th> <td>8.42e-291</td>\n",
       "</tr>\n",
       "<tr>\n",
       "  <th>Time:</th>                 <td>15:13:57</td>     <th>  Log-Likelihood:    </th> <td> -3721.7</td> \n",
       "</tr>\n",
       "<tr>\n",
       "  <th>No. Observations:</th>      <td>   760</td>      <th>  AIC:               </th> <td>   7447.</td> \n",
       "</tr>\n",
       "<tr>\n",
       "  <th>Df Residuals:</th>          <td>   758</td>      <th>  BIC:               </th> <td>   7457.</td> \n",
       "</tr>\n",
       "<tr>\n",
       "  <th>Df Model:</th>              <td>     1</td>      <th>                     </th>     <td> </td>    \n",
       "</tr>\n",
       "<tr>\n",
       "  <th>Covariance Type:</th>      <td>nonrobust</td>    <th>                     </th>     <td> </td>    \n",
       "</tr>\n",
       "</table>\n",
       "<table class=\"simpletable\">\n",
       "<tr>\n",
       "    <td></td>       <th>coef</th>     <th>std err</th>      <th>t</th>      <th>P>|t|</th>  <th>[0.025</th>    <th>0.975]</th>  \n",
       "</tr>\n",
       "<tr>\n",
       "  <th>const</th> <td>   62.7397</td> <td>    1.645</td> <td>   38.145</td> <td> 0.000</td> <td>   59.511</td> <td>   65.969</td>\n",
       "</tr>\n",
       "<tr>\n",
       "  <th>M2</th>    <td>    0.0145</td> <td>    0.000</td> <td>   60.151</td> <td> 0.000</td> <td>    0.014</td> <td>    0.015</td>\n",
       "</tr>\n",
       "</table>\n",
       "<table class=\"simpletable\">\n",
       "<tr>\n",
       "  <th>Omnibus:</th>       <td>42.247</td> <th>  Durbin-Watson:     </th> <td>   0.001</td>\n",
       "</tr>\n",
       "<tr>\n",
       "  <th>Prob(Omnibus):</th> <td> 0.000</td> <th>  Jarque-Bera (JB):  </th> <td>  36.033</td>\n",
       "</tr>\n",
       "<tr>\n",
       "  <th>Skew:</th>          <td>-0.458</td> <th>  Prob(JB):          </th> <td>1.50e-08</td>\n",
       "</tr>\n",
       "<tr>\n",
       "  <th>Kurtosis:</th>      <td> 2.454</td> <th>  Cond. No.          </th> <td>9.54e+03</td>\n",
       "</tr>\n",
       "</table><br/><br/>Notes:<br/>[1] Standard Errors assume that the covariance matrix of the errors is correctly specified.<br/>[2] The condition number is large, 9.54e+03. This might indicate that there are<br/>strong multicollinearity or other numerical problems."
      ],
      "text/plain": [
       "<class 'statsmodels.iolib.summary.Summary'>\n",
       "\"\"\"\n",
       "                            OLS Regression Results                            \n",
       "==============================================================================\n",
       "Dep. Variable:                    CPI   R-squared:                       0.827\n",
       "Model:                            OLS   Adj. R-squared:                  0.827\n",
       "Method:                 Least Squares   F-statistic:                     3618.\n",
       "Date:                Thu, 15 Sep 2022   Prob (F-statistic):          8.42e-291\n",
       "Time:                        15:13:57   Log-Likelihood:                -3721.7\n",
       "No. Observations:                 760   AIC:                             7447.\n",
       "Df Residuals:                     758   BIC:                             7457.\n",
       "Df Model:                           1                                         \n",
       "Covariance Type:            nonrobust                                         \n",
       "==============================================================================\n",
       "                 coef    std err          t      P>|t|      [0.025      0.975]\n",
       "------------------------------------------------------------------------------\n",
       "const         62.7397      1.645     38.145      0.000      59.511      65.969\n",
       "M2             0.0145      0.000     60.151      0.000       0.014       0.015\n",
       "==============================================================================\n",
       "Omnibus:                       42.247   Durbin-Watson:                   0.001\n",
       "Prob(Omnibus):                  0.000   Jarque-Bera (JB):               36.033\n",
       "Skew:                          -0.458   Prob(JB):                     1.50e-08\n",
       "Kurtosis:                       2.454   Cond. No.                     9.54e+03\n",
       "==============================================================================\n",
       "\n",
       "Notes:\n",
       "[1] Standard Errors assume that the covariance matrix of the errors is correctly specified.\n",
       "[2] The condition number is large, 9.54e+03. This might indicate that there are\n",
       "strong multicollinearity or other numerical problems.\n",
       "\"\"\""
      ]
     },
     "execution_count": 3,
     "metadata": {},
     "output_type": "execute_result"
    }
   ],
   "source": [
    "X = money\n",
    "y = prices\n",
    "\n",
    "results = sm.OLS(y,sm.add_constant(X)).fit()\n",
    "results.summary()"
   ]
  },
  {
   "cell_type": "markdown",
   "id": "3c90b398",
   "metadata": {},
   "source": [
    "2. This time, examine a regression of growth rates. Specifically, estimate an OLS regression to see if inflation and money growth are contemporaneously correlated:\n",
    "\n",
    "$$\n",
    "i_{t,t+h} = \\alpha + \\beta g_{t,t+h} + \\epsilon_{t,t+h}\n",
    "$$\n",
    "\n",
    "    • Note that this is not a lagged regression, but rather a regular time-series regression.\n",
    "    • Answer the questions below for a one-year horizon: h = 12.\n",
    "\n",
    "    (a) Report the estimated R-squared.\n",
    "    (b) Report the point-estimate of β."
   ]
  },
  {
   "cell_type": "code",
   "execution_count": 4,
   "id": "b6c33f32",
   "metadata": {
    "scrolled": false
   },
   "outputs": [
    {
     "data": {
      "text/html": [
       "<table class=\"simpletable\">\n",
       "<caption>OLS Regression Results</caption>\n",
       "<tr>\n",
       "  <th>Dep. Variable:</th>        <td>inflation</td>    <th>  R-squared:         </th> <td>   0.008</td>\n",
       "</tr>\n",
       "<tr>\n",
       "  <th>Model:</th>                   <td>OLS</td>       <th>  Adj. R-squared:    </th> <td>   0.007</td>\n",
       "</tr>\n",
       "<tr>\n",
       "  <th>Method:</th>             <td>Least Squares</td>  <th>  F-statistic:       </th> <td>   6.370</td>\n",
       "</tr>\n",
       "<tr>\n",
       "  <th>Date:</th>             <td>Thu, 15 Sep 2022</td> <th>  Prob (F-statistic):</th>  <td>0.0118</td> \n",
       "</tr>\n",
       "<tr>\n",
       "  <th>Time:</th>                 <td>15:13:57</td>     <th>  Log-Likelihood:    </th> <td>  1610.0</td>\n",
       "</tr>\n",
       "<tr>\n",
       "  <th>No. Observations:</th>      <td>   748</td>      <th>  AIC:               </th> <td>  -3216.</td>\n",
       "</tr>\n",
       "<tr>\n",
       "  <th>Df Residuals:</th>          <td>   746</td>      <th>  BIC:               </th> <td>  -3207.</td>\n",
       "</tr>\n",
       "<tr>\n",
       "  <th>Df Model:</th>              <td>     1</td>      <th>                     </th>     <td> </td>   \n",
       "</tr>\n",
       "<tr>\n",
       "  <th>Covariance Type:</th>      <td>nonrobust</td>    <th>                     </th>     <td> </td>   \n",
       "</tr>\n",
       "</table>\n",
       "<table class=\"simpletable\">\n",
       "<tr>\n",
       "        <td></td>          <th>coef</th>     <th>std err</th>      <th>t</th>      <th>P>|t|</th>  <th>[0.025</th>    <th>0.975]</th>  \n",
       "</tr>\n",
       "<tr>\n",
       "  <th>const</th>        <td>    0.0320</td> <td>    0.002</td> <td>   13.839</td> <td> 0.000</td> <td>    0.027</td> <td>    0.037</td>\n",
       "</tr>\n",
       "<tr>\n",
       "  <th>money growth</th> <td>    0.0729</td> <td>    0.029</td> <td>    2.524</td> <td> 0.012</td> <td>    0.016</td> <td>    0.130</td>\n",
       "</tr>\n",
       "</table>\n",
       "<table class=\"simpletable\">\n",
       "<tr>\n",
       "  <th>Omnibus:</th>       <td>211.421</td> <th>  Durbin-Watson:     </th> <td>   0.020</td> \n",
       "</tr>\n",
       "<tr>\n",
       "  <th>Prob(Omnibus):</th> <td> 0.000</td>  <th>  Jarque-Bera (JB):  </th> <td> 484.782</td> \n",
       "</tr>\n",
       "<tr>\n",
       "  <th>Skew:</th>          <td> 1.517</td>  <th>  Prob(JB):          </th> <td>5.38e-106</td>\n",
       "</tr>\n",
       "<tr>\n",
       "  <th>Kurtosis:</th>      <td> 5.519</td>  <th>  Cond. No.          </th> <td>    28.2</td> \n",
       "</tr>\n",
       "</table><br/><br/>Notes:<br/>[1] Standard Errors assume that the covariance matrix of the errors is correctly specified."
      ],
      "text/plain": [
       "<class 'statsmodels.iolib.summary.Summary'>\n",
       "\"\"\"\n",
       "                            OLS Regression Results                            \n",
       "==============================================================================\n",
       "Dep. Variable:              inflation   R-squared:                       0.008\n",
       "Model:                            OLS   Adj. R-squared:                  0.007\n",
       "Method:                 Least Squares   F-statistic:                     6.370\n",
       "Date:                Thu, 15 Sep 2022   Prob (F-statistic):             0.0118\n",
       "Time:                        15:13:57   Log-Likelihood:                 1610.0\n",
       "No. Observations:                 748   AIC:                            -3216.\n",
       "Df Residuals:                     746   BIC:                            -3207.\n",
       "Df Model:                           1                                         \n",
       "Covariance Type:            nonrobust                                         \n",
       "================================================================================\n",
       "                   coef    std err          t      P>|t|      [0.025      0.975]\n",
       "--------------------------------------------------------------------------------\n",
       "const            0.0320      0.002     13.839      0.000       0.027       0.037\n",
       "money growth     0.0729      0.029      2.524      0.012       0.016       0.130\n",
       "==============================================================================\n",
       "Omnibus:                      211.421   Durbin-Watson:                   0.020\n",
       "Prob(Omnibus):                  0.000   Jarque-Bera (JB):              484.782\n",
       "Skew:                           1.517   Prob(JB):                    5.38e-106\n",
       "Kurtosis:                       5.519   Cond. No.                         28.2\n",
       "==============================================================================\n",
       "\n",
       "Notes:\n",
       "[1] Standard Errors assume that the covariance matrix of the errors is correctly specified.\n",
       "\"\"\""
      ]
     },
     "execution_count": 4,
     "metadata": {},
     "output_type": "execute_result"
    }
   ],
   "source": [
    "HORZ = FREQ\n",
    "\n",
    "inflation = (prices / prices.shift(HORZ) -1).dropna()\n",
    "money_growth = (money/money.shift(HORZ) - 1).dropna()\n",
    "#money_growth = data.loc[money_growth.index,'Fed']\n",
    "\n",
    "inflation.name = 'inflation'\n",
    "money_growth.name = 'money growth'\n",
    "\n",
    "X = money_growth\n",
    "y = inflation\n",
    "\n",
    "results = sm.OLS(y,sm.add_constant(X)).fit()\n",
    "results.summary()"
   ]
  },
  {
   "cell_type": "markdown",
   "id": "30dfee1d",
   "metadata": {},
   "source": [
    "3. The result of regressing inflation on money growth is very different from regressing CPI on Money. What do you conclude? Does it seem that variation in money contemporaneously explains variation in inflation? \n",
    "\n",
    "    In particular, what is wrong with one of the two regression models? Consider plotting the raw dependent and independent variable of each."
   ]
  },
  {
   "cell_type": "code",
   "execution_count": 5,
   "id": "63eae01f",
   "metadata": {},
   "outputs": [
    {
     "data": {
      "image/png": "[encoded data removed]",
      "text/plain": [
       "<Figure size 864x432 with 2 Axes>"
      ]
     },
     "metadata": {
      "needs_background": "light"
     },
     "output_type": "display_data"
    }
   ],
   "source": [
    "ax = data[['CPI']].plot(color='b',linewidth=3,ylabel='CPI',legend=['CPI'])\n",
    "ax2 = plt.twinx(ax)\n",
    "data[['M2']].plot(ax=ax2,color='r',linewidth=3,ylabel='M2',legend=['M2'])\n",
    "plt.legend(loc='upper center')\n",
    "plt.show()"
   ]
  },
  {
   "cell_type": "markdown",
   "id": "ddcaa6cf",
   "metadata": {},
   "source": [
    "Clearly, when regressing CPI on M2 we detect a spurious correlation since both of these variable are non-stationary. This results in a high r-squared value which exists only because both of these series grow with time, not because of their correlation to each other."
   ]
  },
  {
   "cell_type": "code",
   "execution_count": 6,
   "id": "353d319f",
   "metadata": {},
   "outputs": [
    {
     "data": {
      "image/png": "[encoded data removed]",
      "text/plain": [
       "<Figure size 864x432 with 2 Axes>"
      ]
     },
     "metadata": {
      "needs_background": "light"
     },
     "output_type": "display_data"
    }
   ],
   "source": [
    "ax = inflation.plot(color='b',linewidth=3,ylabel='inflation',legend=['inflation'])\n",
    "ax2 = plt.twinx(ax)\n",
    "money_growth.plot(ax=ax2,color='r',linewidth=3,ylabel='money_growth',legend=['money_growth'])\n",
    "plt.legend(loc='upper left')\n",
    "plt.show()"
   ]
  },
  {
   "cell_type": "markdown",
   "id": "657f0890",
   "metadata": {},
   "source": [
    "The regression with money growth and inflation is more robust, since both of the variables are stationary. The low r-squared and low correlation suggest that variation in money alone is not sufficient in explaining the variation in inflation."
   ]
  },
  {
   "cell_type": "markdown",
   "id": "5288d56e",
   "metadata": {},
   "source": [
    "4. Answer the remaining questions regarding the estimation of inflation on money growth in part 2 above.\n",
    "\n",
    "    Do the residuals seem to be iid? That is,\n",
    "    \n",
    "    (a) do they seem to be drawn from a constant variance?\n",
    "    \n",
    "    (b) do they have serial correlation?\n",
    "    \n",
    "    Assess this informally by plotting the time-series of estimated sample residuals, e."
   ]
  },
  {
   "cell_type": "code",
   "execution_count": 7,
   "id": "6dcb38ec",
   "metadata": {},
   "outputs": [
    {
     "data": {
      "text/plain": [
       "<AxesSubplot:>"
      ]
     },
     "execution_count": 7,
     "metadata": {},
     "output_type": "execute_result"
    },
    {
     "data": {
      "image/png": "[encoded data removed]",
      "text/plain": [
       "<Figure size 864x432 with 1 Axes>"
      ]
     },
     "metadata": {
      "needs_background": "light"
     },
     "output_type": "display_data"
    }
   ],
   "source": [
    "e = results.resid\n",
    "\n",
    "if len(e.shape)==1:\n",
    "    e = pd.Series(e)\n",
    "\n",
    "e.plot()"
   ]
  },
  {
   "cell_type": "code",
   "execution_count": 8,
   "id": "97357282",
   "metadata": {},
   "outputs": [
    {
     "data": {
      "text/html": [
       "<div>\n",
       "<style scoped>\n",
       "    .dataframe tbody tr th:only-of-type {\n",
       "        vertical-align: middle;\n",
       "    }\n",
       "\n",
       "    .dataframe tbody tr th {\n",
       "        vertical-align: top;\n",
       "    }\n",
       "\n",
       "    .dataframe thead th {\n",
       "        text-align: right;\n",
       "    }\n",
       "</style>\n",
       "<table border=\"1\" class=\"dataframe\">\n",
       "  <thead>\n",
       "    <tr style=\"text-align: right;\">\n",
       "      <th></th>\n",
       "      <th>0</th>\n",
       "      <th>1</th>\n",
       "    </tr>\n",
       "  </thead>\n",
       "  <tbody>\n",
       "    <tr>\n",
       "      <th>0</th>\n",
       "      <td>1.000000</td>\n",
       "      <td>0.990005</td>\n",
       "    </tr>\n",
       "    <tr>\n",
       "      <th>1</th>\n",
       "      <td>0.990005</td>\n",
       "      <td>1.000000</td>\n",
       "    </tr>\n",
       "  </tbody>\n",
       "</table>\n",
       "</div>"
      ],
      "text/plain": [
       "          0         1\n",
       "0  1.000000  0.990005\n",
       "1  0.990005  1.000000"
      ]
     },
     "execution_count": 8,
     "metadata": {},
     "output_type": "execute_result"
    }
   ],
   "source": [
    "pd.concat([e,e.shift()],axis=1).corr()"
   ]
  },
  {
   "cell_type": "markdown",
   "id": "73e4dbd2",
   "metadata": {},
   "source": [
    "Errors have positive serial correlation and don't have constant variance as well. Due to this, errors are not i.i.d."
   ]
  },
  {
   "cell_type": "markdown",
   "id": "b31d9a38",
   "metadata": {},
   "source": [
    "5. Suppose that the residuals are heteroskedastic and have serial correlation.\n",
    "    \n",
    "    (a) Report whether the estimates for α or β are statistically significant relative to 0, for a\n",
    "    significance level of 5%.$^1$\n",
    "    \n",
    "    (b) Do you have concerns about the accuracy of the reported p-values?\n",
    "    \n",
    "    (c) Do you have concerns about the estimated beta? For small samples, for large samples?"
   ]
  },
  {
   "cell_type": "markdown",
   "id": "5be7fb3d",
   "metadata": {},
   "source": [
    "- Estimates for α or β are statistically significant relative to 0, for a significance level of 5% since the p-value for both is below 5%\n",
    "\n",
    "- We should be concerned about the accuracy of these p-values since the residuals do not have constant variance. Non-constant variance would result in an unreliable t-statistic\n",
    "\n",
    "- Estimated betas are still unbiased, however they are not efficient any more. For small samples, this would mean that betas can be quite different between different samples."
   ]
  },
  {
   "cell_type": "markdown",
   "id": "221a023e",
   "metadata": {},
   "source": [
    "6. OPTIONAL\n",
    "\n",
    "    (a) Assess the residuals with the Durbin-Watson test for serial correlation. $^2$\n",
    "    \n",
    "    (b) Formally assess heteroskedasticity of the residuals with White’s test. $^3$"
   ]
  },
  {
   "cell_type": "code",
   "execution_count": 9,
   "id": "f0b1447a",
   "metadata": {},
   "outputs": [
    {
     "name": "stdout",
     "output_type": "stream",
     "text": [
      "Durbin Watson Test Statistic: 0.02\n",
      "White-test for Heteroskedasticity p-value is 0.0098%\n"
     ]
    }
   ],
   "source": [
    "from statsmodels.stats.stattools import durbin_watson\n",
    "#perform Durbin-Watson test\n",
    "dw_stats = durbin_watson(e)\n",
    "print('Durbin Watson Test Statistic: {:,.2f}'.format(dw_stats))\n",
    "\n",
    "from statsmodels.stats.diagnostic import het_white\n",
    "X = results.model.exog\n",
    "lm, pval, _, _ = het_white(e,X)\n",
    "print(f'White-test for Heteroskedasticity p-value is {pval:.4%}')"
   ]
  },
  {
   "cell_type": "markdown",
   "id": "398897db",
   "metadata": {},
   "source": [
    "## 2. Forecasting via Regressions\n",
    "\n",
    "Consider a forecasting (lagged) regression for inflation at horizon h:\n",
    "\n",
    "$$\n",
    "            i_{t,t+h} = \\alpha + \\beta x_{t−h,t} + \\epsilon_{t,t+h}\n",
    "$$\n",
    "\n",
    "- Note that the regressor is lagged relative to the dependent variable."
   ]
  },
  {
   "cell_type": "markdown",
   "id": "4fc0fc72",
   "metadata": {},
   "source": [
    "1. Forecast using lagged inflation. Namely, estimate the above for\n",
    "    \n",
    "    • h = 1, 12, 24, 36\n",
    "    \n",
    "    • inflation as the regressor\n",
    "    \n",
    "    For each horizon regression, report the R-squared."
   ]
  },
  {
   "cell_type": "code",
   "execution_count": 10,
   "id": "e7318bba",
   "metadata": {},
   "outputs": [],
   "source": [
    "def set_autoregressor(df,LAG):\n",
    "    \n",
    "    X = df.shift(LAG).dropna()\n",
    "    y = df\n",
    "\n",
    "    X,y = X.align(y,join='inner')\n",
    "    X = X.values.reshape(-1,1)\n",
    "    y = y.values.reshape(-1,1)\n",
    "\n",
    "    return X,y"
   ]
  },
  {
   "cell_type": "code",
   "execution_count": 11,
   "id": "f7f2d40a",
   "metadata": {
    "scrolled": false
   },
   "outputs": [
    {
     "data": {
      "text/html": [
       "<table class=\"simpletable\">\n",
       "<caption>OLS Regression Results</caption>\n",
       "<tr>\n",
       "  <th>Dep. Variable:</th>            <td>y</td>        <th>  R-squared:         </th> <td>   0.999</td> \n",
       "</tr>\n",
       "<tr>\n",
       "  <th>Model:</th>                   <td>OLS</td>       <th>  Adj. R-squared:    </th> <td>   0.999</td> \n",
       "</tr>\n",
       "<tr>\n",
       "  <th>Method:</th>             <td>Least Squares</td>  <th>  F-statistic:       </th> <td>5.960e+05</td>\n",
       "</tr>\n",
       "<tr>\n",
       "  <th>Date:</th>             <td>Thu, 15 Sep 2022</td> <th>  Prob (F-statistic):</th>  <td>  0.00</td>  \n",
       "</tr>\n",
       "<tr>\n",
       "  <th>Time:</th>                 <td>15:13:58</td>     <th>  Log-Likelihood:    </th> <td> -1814.0</td> \n",
       "</tr>\n",
       "<tr>\n",
       "  <th>No. Observations:</th>      <td>   748</td>      <th>  AIC:               </th> <td>   3632.</td> \n",
       "</tr>\n",
       "<tr>\n",
       "  <th>Df Residuals:</th>          <td>   746</td>      <th>  BIC:               </th> <td>   3641.</td> \n",
       "</tr>\n",
       "<tr>\n",
       "  <th>Df Model:</th>              <td>     1</td>      <th>                     </th>     <td> </td>    \n",
       "</tr>\n",
       "<tr>\n",
       "  <th>Covariance Type:</th>      <td>nonrobust</td>    <th>                     </th>     <td> </td>    \n",
       "</tr>\n",
       "</table>\n",
       "<table class=\"simpletable\">\n",
       "<tr>\n",
       "    <td></td>       <th>coef</th>     <th>std err</th>      <th>t</th>      <th>P>|t|</th>  <th>[0.025</th>    <th>0.975]</th>  \n",
       "</tr>\n",
       "<tr>\n",
       "  <th>const</th> <td>    2.1157</td> <td>    0.197</td> <td>   10.714</td> <td> 0.000</td> <td>    1.728</td> <td>    2.503</td>\n",
       "</tr>\n",
       "<tr>\n",
       "  <th>x1</th>    <td>    1.0145</td> <td>    0.001</td> <td>  771.992</td> <td> 0.000</td> <td>    1.012</td> <td>    1.017</td>\n",
       "</tr>\n",
       "</table>\n",
       "<table class=\"simpletable\">\n",
       "<tr>\n",
       "  <th>Omnibus:</th>       <td>264.441</td> <th>  Durbin-Watson:     </th> <td>   0.053</td>\n",
       "</tr>\n",
       "<tr>\n",
       "  <th>Prob(Omnibus):</th> <td> 0.000</td>  <th>  Jarque-Bera (JB):  </th> <td>1607.849</td>\n",
       "</tr>\n",
       "<tr>\n",
       "  <th>Skew:</th>          <td> 1.460</td>  <th>  Prob(JB):          </th> <td>    0.00</td>\n",
       "</tr>\n",
       "<tr>\n",
       "  <th>Kurtosis:</th>      <td> 9.562</td>  <th>  Cond. No.          </th> <td>    296.</td>\n",
       "</tr>\n",
       "</table><br/><br/>Notes:<br/>[1] Standard Errors assume that the covariance matrix of the errors is correctly specified."
      ],
      "text/plain": [
       "<class 'statsmodels.iolib.summary.Summary'>\n",
       "\"\"\"\n",
       "                            OLS Regression Results                            \n",
       "==============================================================================\n",
       "Dep. Variable:                      y   R-squared:                       0.999\n",
       "Model:                            OLS   Adj. R-squared:                  0.999\n",
       "Method:                 Least Squares   F-statistic:                 5.960e+05\n",
       "Date:                Thu, 15 Sep 2022   Prob (F-statistic):               0.00\n",
       "Time:                        15:13:58   Log-Likelihood:                -1814.0\n",
       "No. Observations:                 748   AIC:                             3632.\n",
       "Df Residuals:                     746   BIC:                             3641.\n",
       "Df Model:                           1                                         \n",
       "Covariance Type:            nonrobust                                         \n",
       "==============================================================================\n",
       "                 coef    std err          t      P>|t|      [0.025      0.975]\n",
       "------------------------------------------------------------------------------\n",
       "const          2.1157      0.197     10.714      0.000       1.728       2.503\n",
       "x1             1.0145      0.001    771.992      0.000       1.012       1.017\n",
       "==============================================================================\n",
       "Omnibus:                      264.441   Durbin-Watson:                   0.053\n",
       "Prob(Omnibus):                  0.000   Jarque-Bera (JB):             1607.849\n",
       "Skew:                           1.460   Prob(JB):                         0.00\n",
       "Kurtosis:                       9.562   Cond. No.                         296.\n",
       "==============================================================================\n",
       "\n",
       "Notes:\n",
       "[1] Standard Errors assume that the covariance matrix of the errors is correctly specified.\n",
       "\"\"\""
      ]
     },
     "execution_count": 11,
     "metadata": {},
     "output_type": "execute_result"
    }
   ],
   "source": [
    "LAG = FREQ\n",
    "\n",
    "X,y = set_autoregressor(prices,LAG)\n",
    "mod = LinearRegression().fit(X,y)\n",
    "mod.score(X,y)\n",
    "\n",
    "results = sm.OLS(y,sm.add_constant(X)).fit()\n",
    "results.summary()"
   ]
  },
  {
   "cell_type": "markdown",
   "id": "1cb62357",
   "metadata": {},
   "source": [
    "Regression result is amazing R-squared.\n",
    "\n",
    "But is this regression valid?"
   ]
  },
  {
   "cell_type": "markdown",
   "id": "d1142615",
   "metadata": {},
   "source": [
    "2. Redo the previous problem, but this time with (lagged) money growth as the regressor instead of (lagged) inflation."
   ]
  },
  {
   "cell_type": "markdown",
   "id": "36c537b3",
   "metadata": {},
   "source": [
    "3. Redo the previous problem, this time using both (lagged) inflation and (lagged) money growth as the regressors."
   ]
  },
  {
   "cell_type": "markdown",
   "id": "a99f483b",
   "metadata": {},
   "source": [
    "## Stationary Transformation: Growth Rates\n",
    "\n",
    "* Price Index to Inflation \n",
    "* Money to Money Growth"
   ]
  },
  {
   "cell_type": "code",
   "execution_count": 12,
   "id": "e8bc4081",
   "metadata": {},
   "outputs": [],
   "source": [
    "horizons = FREQ * np.array([1,2,3])\n",
    "if 1 not in horizons:\n",
    "    horizons = np.insert(horizons,0,1)\n",
    "\n",
    "r2 = pd.DataFrame(index=pd.Index(horizons,name='horizon (months)'),columns=['inflation','money growth','both'],dtype=float)\n",
    "betas_uni = r2[['inflation','money growth']].copy()\n",
    "betas_multi = betas_uni.copy()\n",
    "\n",
    "for LAG in horizons:\n",
    "\n",
    "    inflation = (prices / prices.shift(LAG) -1).dropna()\n",
    "    money_growth = (money/money.shift(LAG) - 1).dropna()\n",
    "#    money_growth = data.loc[money_growth.index,'Fed']\n",
    "    inflation.name = 'inflation'\n",
    "    money_growth.name = 'money growth'\n",
    "    \n",
    "    Xi,y = set_autoregressor(inflation,LAG)\n",
    "    mod = LinearRegression().fit(Xi,y)    \n",
    "    lab = r2.columns[0]\n",
    "    r2.loc[LAG,lab] = mod.score(Xi,y)\n",
    "    betas_uni.loc[LAG,lab] = mod.coef_\n",
    "    \n",
    "    Xm,y = set_autoregressor(money_growth,LAG)\n",
    "    mod = LinearRegression().fit(Xm,y)\n",
    "    lab = r2.columns[1]\n",
    "    r2.loc[LAG,lab] = mod.score(Xm,y)\n",
    "    betas_uni.loc[LAG,lab] = mod.coef_\n",
    "        \n",
    "    X = pd.DataFrame(index=inflation.index[LAG:],data=np.concatenate((Xi,Xm),axis=1),columns=['inflation','money growth'])\n",
    "    y,X = inflation.align(X,join='inner')\n",
    "    mod = LinearRegression().fit(X,y)\n",
    "    lab = r2.columns[2]\n",
    "    r2.loc[LAG,lab] = mod.score(X,y)\n",
    "    betas_multi.loc[LAG,:] = mod.coef_"
   ]
  },
  {
   "cell_type": "code",
   "execution_count": 13,
   "id": "f127e0e5",
   "metadata": {},
   "outputs": [
    {
     "data": {
      "text/html": [
       "<style type=\"text/css\">\n",
       "</style>\n",
       "<table id=\"T_f4c21\">\n",
       "  <caption>betas</caption>\n",
       "  <thead>\n",
       "    <tr>\n",
       "      <th class=\"blank level0\" >&nbsp;</th>\n",
       "      <th id=\"T_f4c21_level0_col0\" class=\"col_heading level0 col0\" colspan=\"2\">univariate</th>\n",
       "      <th id=\"T_f4c21_level0_col2\" class=\"col_heading level0 col2\" colspan=\"2\">multivariate</th>\n",
       "    </tr>\n",
       "    <tr>\n",
       "      <th class=\"blank level1\" >&nbsp;</th>\n",
       "      <th id=\"T_f4c21_level1_col0\" class=\"col_heading level1 col0\" >inflation</th>\n",
       "      <th id=\"T_f4c21_level1_col1\" class=\"col_heading level1 col1\" >money growth</th>\n",
       "      <th id=\"T_f4c21_level1_col2\" class=\"col_heading level1 col2\" >inflation</th>\n",
       "      <th id=\"T_f4c21_level1_col3\" class=\"col_heading level1 col3\" >money growth</th>\n",
       "    </tr>\n",
       "    <tr>\n",
       "      <th class=\"index_name level0\" >horizon (months)</th>\n",
       "      <th class=\"blank col0\" >&nbsp;</th>\n",
       "      <th class=\"blank col1\" >&nbsp;</th>\n",
       "      <th class=\"blank col2\" >&nbsp;</th>\n",
       "      <th class=\"blank col3\" >&nbsp;</th>\n",
       "    </tr>\n",
       "  </thead>\n",
       "  <tbody>\n",
       "    <tr>\n",
       "      <th id=\"T_f4c21_level0_row0\" class=\"row_heading level0 row0\" >1</th>\n",
       "      <td id=\"T_f4c21_row0_col0\" class=\"data row0 col0\" >63.1%</td>\n",
       "      <td id=\"T_f4c21_row0_col1\" class=\"data row0 col1\" >63.6%</td>\n",
       "      <td id=\"T_f4c21_row0_col2\" class=\"data row0 col2\" >63.5%</td>\n",
       "      <td id=\"T_f4c21_row0_col3\" class=\"data row0 col3\" >3.5%</td>\n",
       "    </tr>\n",
       "    <tr>\n",
       "      <th id=\"T_f4c21_level0_row1\" class=\"row_heading level0 row1\" >12</th>\n",
       "      <td id=\"T_f4c21_row1_col0\" class=\"data row1 col0\" >74.9%</td>\n",
       "      <td id=\"T_f4c21_row1_col1\" class=\"data row1 col1\" >42.3%</td>\n",
       "      <td id=\"T_f4c21_row1_col2\" class=\"data row1 col2\" >73.1%</td>\n",
       "      <td id=\"T_f4c21_row1_col3\" class=\"data row1 col3\" >19.4%</td>\n",
       "    </tr>\n",
       "    <tr>\n",
       "      <th id=\"T_f4c21_level0_row2\" class=\"row_heading level0 row2\" >24</th>\n",
       "      <td id=\"T_f4c21_row2_col0\" class=\"data row2 col0\" >63.1%</td>\n",
       "      <td id=\"T_f4c21_row2_col1\" class=\"data row2 col1\" >32.9%</td>\n",
       "      <td id=\"T_f4c21_row2_col2\" class=\"data row2 col2\" >52.5%</td>\n",
       "      <td id=\"T_f4c21_row2_col3\" class=\"data row2 col3\" >38.4%</td>\n",
       "    </tr>\n",
       "    <tr>\n",
       "      <th id=\"T_f4c21_level0_row3\" class=\"row_heading level0 row3\" >36</th>\n",
       "      <td id=\"T_f4c21_row3_col0\" class=\"data row3 col0\" >59.5%</td>\n",
       "      <td id=\"T_f4c21_row3_col1\" class=\"data row3 col1\" >47.5%</td>\n",
       "      <td id=\"T_f4c21_row3_col2\" class=\"data row3 col2\" >40.8%</td>\n",
       "      <td id=\"T_f4c21_row3_col3\" class=\"data row3 col3\" >50.4%</td>\n",
       "    </tr>\n",
       "  </tbody>\n",
       "</table>\n"
      ],
      "text/plain": [
       "<pandas.io.formats.style.Styler at 0x13375d550>"
      ]
     },
     "metadata": {},
     "output_type": "display_data"
    },
    {
     "data": {
      "text/html": [
       "<style type=\"text/css\">\n",
       "</style>\n",
       "<table id=\"T_1288b\">\n",
       "  <caption>r-squared</caption>\n",
       "  <thead>\n",
       "    <tr>\n",
       "      <th class=\"blank level0\" >&nbsp;</th>\n",
       "      <th id=\"T_1288b_level0_col0\" class=\"col_heading level0 col0\" >inflation</th>\n",
       "      <th id=\"T_1288b_level0_col1\" class=\"col_heading level0 col1\" >money growth</th>\n",
       "      <th id=\"T_1288b_level0_col2\" class=\"col_heading level0 col2\" >both</th>\n",
       "    </tr>\n",
       "    <tr>\n",
       "      <th class=\"index_name level0\" >horizon (months)</th>\n",
       "      <th class=\"blank col0\" >&nbsp;</th>\n",
       "      <th class=\"blank col1\" >&nbsp;</th>\n",
       "      <th class=\"blank col2\" >&nbsp;</th>\n",
       "    </tr>\n",
       "  </thead>\n",
       "  <tbody>\n",
       "    <tr>\n",
       "      <th id=\"T_1288b_level0_row0\" class=\"row_heading level0 row0\" >1</th>\n",
       "      <td id=\"T_1288b_row0_col0\" class=\"data row0 col0\" >39.9%</td>\n",
       "      <td id=\"T_1288b_row0_col1\" class=\"data row0 col1\" >40.2%</td>\n",
       "      <td id=\"T_1288b_row0_col2\" class=\"data row0 col2\" >40.1%</td>\n",
       "    </tr>\n",
       "    <tr>\n",
       "      <th id=\"T_1288b_level0_row1\" class=\"row_heading level0 row1\" >12</th>\n",
       "      <td id=\"T_1288b_row1_col0\" class=\"data row1 col0\" >55.5%</td>\n",
       "      <td id=\"T_1288b_row1_col1\" class=\"data row1 col1\" >17.6%</td>\n",
       "      <td id=\"T_1288b_row1_col2\" class=\"data row1 col2\" >61.4%</td>\n",
       "    </tr>\n",
       "    <tr>\n",
       "      <th id=\"T_1288b_level0_row2\" class=\"row_heading level0 row2\" >24</th>\n",
       "      <td id=\"T_1288b_row2_col0\" class=\"data row2 col0\" >40.5%</td>\n",
       "      <td id=\"T_1288b_row2_col1\" class=\"data row2 col1\" >7.0%</td>\n",
       "      <td id=\"T_1288b_row2_col2\" class=\"data row2 col2\" >52.3%</td>\n",
       "    </tr>\n",
       "    <tr>\n",
       "      <th id=\"T_1288b_level0_row3\" class=\"row_heading level0 row3\" >36</th>\n",
       "      <td id=\"T_1288b_row3_col0\" class=\"data row3 col0\" >36.6%</td>\n",
       "      <td id=\"T_1288b_row3_col1\" class=\"data row3 col1\" >17.7%</td>\n",
       "      <td id=\"T_1288b_row3_col2\" class=\"data row3 col2\" >54.0%</td>\n",
       "    </tr>\n",
       "  </tbody>\n",
       "</table>\n"
      ],
      "text/plain": [
       "<pandas.io.formats.style.Styler at 0x13375dd60>"
      ]
     },
     "metadata": {},
     "output_type": "display_data"
    }
   ],
   "source": [
    "display(pd.concat([betas_uni,betas_multi],axis=1,keys=['univariate','multivariate']).style.set_caption('betas').format('{:.1%}'))\n",
    "display(r2.style.set_caption('r-squared').format('{:.1%}'))"
   ]
  },
  {
   "cell_type": "markdown",
   "id": "2d116b08",
   "metadata": {},
   "source": [
    "4. Does either regressor seem to have forecasting power? Does combining them improve the forecast?"
   ]
  },
  {
   "cell_type": "markdown",
   "id": "7b255e1a",
   "metadata": {},
   "source": [
    "Lagged Inflation has some forecasting power but not by a lot. Combining inflation and money growth does improve the performance marginally."
   ]
  },
  {
   "cell_type": "markdown",
   "id": "3849ea96",
   "metadata": {},
   "source": [
    "5. Validity of the results\n",
    "\n",
    "    (a) Plot the estimated residual for the forecasting regression at horizon h = 12 which uses both\n",
    "    inflation and money growth as regressors.\n",
    "    \n",
    "    (b) Does it seem to have serial correlation?\n",
    "    \n",
    "    (c) Supposing the residual has serial correlation, does this give you concern for the betas above,\n",
    "    or just the p-values?"
   ]
  },
  {
   "cell_type": "code",
   "execution_count": 14,
   "id": "07d4477d",
   "metadata": {},
   "outputs": [
    {
     "data": {
      "text/html": [
       "<table class=\"simpletable\">\n",
       "<caption>OLS Regression Results</caption>\n",
       "<tr>\n",
       "  <th>Dep. Variable:</th>        <td>inflation</td>    <th>  R-squared:         </th> <td>   0.540</td> \n",
       "</tr>\n",
       "<tr>\n",
       "  <th>Model:</th>                   <td>OLS</td>       <th>  Adj. R-squared:    </th> <td>   0.539</td> \n",
       "</tr>\n",
       "<tr>\n",
       "  <th>Method:</th>             <td>Least Squares</td>  <th>  F-statistic:       </th> <td>   402.2</td> \n",
       "</tr>\n",
       "<tr>\n",
       "  <th>Date:</th>             <td>Thu, 15 Sep 2022</td> <th>  Prob (F-statistic):</th> <td>2.92e-116</td>\n",
       "</tr>\n",
       "<tr>\n",
       "  <th>Time:</th>                 <td>15:13:58</td>     <th>  Log-Likelihood:    </th> <td>  997.05</td> \n",
       "</tr>\n",
       "<tr>\n",
       "  <th>No. Observations:</th>      <td>   688</td>      <th>  AIC:               </th> <td>  -1988.</td> \n",
       "</tr>\n",
       "<tr>\n",
       "  <th>Df Residuals:</th>          <td>   685</td>      <th>  BIC:               </th> <td>  -1975.</td> \n",
       "</tr>\n",
       "<tr>\n",
       "  <th>Df Model:</th>              <td>     2</td>      <th>                     </th>     <td> </td>    \n",
       "</tr>\n",
       "<tr>\n",
       "  <th>Covariance Type:</th>      <td>nonrobust</td>    <th>                     </th>     <td> </td>    \n",
       "</tr>\n",
       "</table>\n",
       "<table class=\"simpletable\">\n",
       "<tr>\n",
       "        <td></td>          <th>coef</th>     <th>std err</th>      <th>t</th>      <th>P>|t|</th>  <th>[0.025</th>    <th>0.975]</th>  \n",
       "</tr>\n",
       "<tr>\n",
       "  <th>const</th>        <td>   -0.0389</td> <td>    0.007</td> <td>   -5.791</td> <td> 0.000</td> <td>   -0.052</td> <td>   -0.026</td>\n",
       "</tr>\n",
       "<tr>\n",
       "  <th>inflation</th>    <td>    0.4079</td> <td>    0.028</td> <td>   14.555</td> <td> 0.000</td> <td>    0.353</td> <td>    0.463</td>\n",
       "</tr>\n",
       "<tr>\n",
       "  <th>money growth</th> <td>    0.5043</td> <td>    0.031</td> <td>   16.123</td> <td> 0.000</td> <td>    0.443</td> <td>    0.566</td>\n",
       "</tr>\n",
       "</table>\n",
       "<table class=\"simpletable\">\n",
       "<tr>\n",
       "  <th>Omnibus:</th>       <td>11.287</td> <th>  Durbin-Watson:     </th> <td>   0.010</td>\n",
       "</tr>\n",
       "<tr>\n",
       "  <th>Prob(Omnibus):</th> <td> 0.004</td> <th>  Jarque-Bera (JB):  </th> <td>  13.418</td>\n",
       "</tr>\n",
       "<tr>\n",
       "  <th>Skew:</th>          <td> 0.214</td> <th>  Prob(JB):          </th> <td> 0.00122</td>\n",
       "</tr>\n",
       "<tr>\n",
       "  <th>Kurtosis:</th>      <td> 3.534</td> <th>  Cond. No.          </th> <td>    17.0</td>\n",
       "</tr>\n",
       "</table><br/><br/>Notes:<br/>[1] Standard Errors assume that the covariance matrix of the errors is correctly specified."
      ],
      "text/plain": [
       "<class 'statsmodels.iolib.summary.Summary'>\n",
       "\"\"\"\n",
       "                            OLS Regression Results                            \n",
       "==============================================================================\n",
       "Dep. Variable:              inflation   R-squared:                       0.540\n",
       "Model:                            OLS   Adj. R-squared:                  0.539\n",
       "Method:                 Least Squares   F-statistic:                     402.2\n",
       "Date:                Thu, 15 Sep 2022   Prob (F-statistic):          2.92e-116\n",
       "Time:                        15:13:58   Log-Likelihood:                 997.05\n",
       "No. Observations:                 688   AIC:                            -1988.\n",
       "Df Residuals:                     685   BIC:                            -1975.\n",
       "Df Model:                           2                                         \n",
       "Covariance Type:            nonrobust                                         \n",
       "================================================================================\n",
       "                   coef    std err          t      P>|t|      [0.025      0.975]\n",
       "--------------------------------------------------------------------------------\n",
       "const           -0.0389      0.007     -5.791      0.000      -0.052      -0.026\n",
       "inflation        0.4079      0.028     14.555      0.000       0.353       0.463\n",
       "money growth     0.5043      0.031     16.123      0.000       0.443       0.566\n",
       "==============================================================================\n",
       "Omnibus:                       11.287   Durbin-Watson:                   0.010\n",
       "Prob(Omnibus):                  0.004   Jarque-Bera (JB):               13.418\n",
       "Skew:                           0.214   Prob(JB):                      0.00122\n",
       "Kurtosis:                       3.534   Cond. No.                         17.0\n",
       "==============================================================================\n",
       "\n",
       "Notes:\n",
       "[1] Standard Errors assume that the covariance matrix of the errors is correctly specified.\n",
       "\"\"\""
      ]
     },
     "execution_count": 14,
     "metadata": {},
     "output_type": "execute_result"
    }
   ],
   "source": [
    "results = sm.OLS(y,sm.add_constant(X)).fit()\n",
    "\n",
    "e = results.resid\n",
    "\n",
    "if len(e.shape)==1:\n",
    "    e = pd.Series(e)\n",
    "\n",
    "results.summary()"
   ]
  },
  {
   "cell_type": "code",
   "execution_count": 15,
   "id": "d7a3569d",
   "metadata": {},
   "outputs": [
    {
     "data": {
      "image/png": "[encoded data removed]",
      "text/plain": [
       "<Figure size 864x432 with 1 Axes>"
      ]
     },
     "metadata": {
      "needs_background": "light"
     },
     "output_type": "display_data"
    }
   ],
   "source": [
    "e.plot()\n",
    "plt.show()"
   ]
  },
  {
   "cell_type": "code",
   "execution_count": 16,
   "id": "7e8530ce",
   "metadata": {},
   "outputs": [
    {
     "name": "stdout",
     "output_type": "stream",
     "text": [
      "Durbin Watson Test Statistic: 0.01\n"
     ]
    }
   ],
   "source": [
    "from statsmodels.stats.stattools import durbin_watson\n",
    "#perform Durbin-Watson test\n",
    "dw_stats = durbin_watson(e)\n",
    "print('Durbin Watson Test Statistic: {:,.2f}'.format(dw_stats))"
   ]
  },
  {
   "cell_type": "markdown",
   "id": "5ddb8c8c",
   "metadata": {},
   "source": [
    "Clearly, the model has positive serial correlation."
   ]
  },
  {
   "cell_type": "markdown",
   "id": "c2c3ddc3",
   "metadata": {},
   "source": [
    "If the model has serial correlation, we are only concerned about the accuracy of the p-values. This is because the estimates are still unbiased and consistent, but the minimum variance property (which assume residuals to be i.i.d.) is not satisfied. "
   ]
  }
 ],
 "metadata": {
  "hide_input": false,
  "kernelspec": {
   "display_name": "Python 3 (ipykernel)",
   "language": "python",
   "name": "python3"
  },
  "language_info": {
   "codemirror_mode": {
    "name": "ipython",
    "version": 3
   },
   "file_extension": ".py",
   "mimetype": "text/x-python",
   "name": "python",
   "nbconvert_exporter": "python",
   "pygments_lexer": "ipython3",
   "version": "3.9.7"
  }
 },
 "nbformat": 4,
 "nbformat_minor": 5
}
