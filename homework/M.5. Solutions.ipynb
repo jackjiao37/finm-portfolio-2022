{
 "cells": [
  {
   "cell_type": "markdown",
   "id": "f7605588",
   "metadata": {},
   "source": [
    "# M.5. Solutions\n",
    "\n",
    "## Markets Foundations\n",
    "\n",
    "### UChicago Financial Mathematics\n",
    "\n",
    "#### September 2022\n",
    "\n",
    "* Mark Hendricks\n",
    "* hendricks@uchicago.edu\n",
    "\n",
    "#### This assignment is not submitted, graded, or for credit. \n",
    "Rather, it is assigned for learning purposes."
   ]
  },
  {
   "cell_type": "markdown",
   "id": "beb746ad",
   "metadata": {},
   "source": [
    "## 1 Calculating Returns"
   ]
  },
  {
   "cell_type": "markdown",
   "id": "2745f4d0",
   "metadata": {},
   "source": [
    "Use the data in `data/equity_data.xlsx`\n",
    "* tab `prices AAPL`: columns `Unadjusted Price` and `Adjusted Price`\n",
    "* tab  `dividends AAPL`: columns `ex_date` and `dividend_amount`\n",
    "\n",
    "### 1.1\n",
    "For the most recent 2 dividend dates, calculate the one-day return to AAPL using the unadjusted price and the dividend amount. \n",
    "\n",
    "That is, for a given dividend, calculate the return for the day prior to the \"ex date\" and ending on the \"ex date\". Do this for at least the most recent two dividends. (Though it is probably just as easy to adjust the return on every dividend date.)\n",
    "\n",
    "How close is this to the return calculated from the adjusted price percentage change?\n",
    "\n",
    "### 1.2\n",
    "For the most recent stock split, (see multiple in `dividend_amount` and indicated in the column `dividend_type`,) calculate the return to AAPL using the unadjusted price along with this split and dividend info.\n",
    "\n",
    "How close is this computed return to that calculated from the adjusted price growth?"
   ]
  },
  {
   "cell_type": "markdown",
   "id": "89e75fdd",
   "metadata": {},
   "source": [
    "## 2 Stock Sensitivity\n",
    "\n",
    "Use the data in `data/equity_data.xlsx`, in the tab `etf history`.\n",
    "\n",
    "For the ETFs listed in `etf history`, calculate their percentage change over time. (These are adjusted prices, so this is a measure of their returns.)\n",
    "\n",
    "## 2.1\n",
    "Report the correlation table.\n",
    "\n",
    "## 2.2\n",
    "\n",
    "### Background\n",
    "Recall that in analyzing fixed income products, duration measures the percentage change of price with respect to a shift in rates:\n",
    "\n",
    "$$\\frac{dP}{P} = -D dr + \\epsilon$$\n",
    "\n",
    "This concept is duration is at the heart of much of the trading in fixed income.\n",
    "\n",
    "In equities, there is an analogous concept: a stock's **beta**:\n",
    "\n",
    "$$r_t = \\alpha + \\beta r^{\\text{SPY}}_t + \\epsilon_t$$\n",
    "\n",
    "This beta is analyzed with respect to many factors, but it is most widely analyzed with respect to the S&P 500 (or a similar, broad equity index. Thus the notation $r^{\\text{SPY}}_t$ on the right-hand side.\n",
    "\n",
    "### Calculation\n",
    "For each ETF return series, estimate the regression above. (You will estimate many regressions, in a loop, each using SPY as the right-hand-side factor.)\n",
    "\n",
    "Report these betas. Which ETF has the most overall stock-market risk?\n",
    "\n",
    "#### Hint: \n",
    "\n",
    "To estimate the regression, consider using the following approach:\n",
    "\n",
    "`from sklearn.linear_model import LinearRegression`\n",
    "\n",
    "`LinearRegression().fit(X,y).coef_`"
   ]
  },
  {
   "cell_type": "markdown",
   "id": "fbcf0ca0",
   "metadata": {},
   "source": [
    "***"
   ]
  },
  {
   "cell_type": "markdown",
   "id": "ffe8ea41",
   "metadata": {},
   "source": [
    "## 3 Factor Structure of Stocks\n",
    "\n",
    "Why is the \"market\" (often meaning S&P500) beta so popular as a risk factor for equities? It is because, (like fixed income with rates,) there is a strong factor structure. That is, many stocks have a lot of correlation to the S&P 500.\n",
    "\n",
    "To see this factor structure statistically, use `spx_returns_weekly.xlsx`, to do a principal component analysis (PCA) of S&P 500 returns.\n",
    "\n",
    "### 3.1 \n",
    "Calculate the variance explained by each PCA factor. List the top 5. How important is the first factor in explaining everything? Are the other factors important?\n",
    "\n",
    "#### Hint\n",
    "\n",
    "If the returns are in a pandas dataframe, `rets`, try using\n",
    "\n",
    "`from sklearn.decomposition import PCA`\n",
    "\n",
    "`pca = PCA(svd_solver='full')`\n",
    "\n",
    "`pca.fit(rets)`\n",
    "\n",
    "`pca.explained_variance_ratio_[0:5]`\n",
    "\n",
    "### 3.2\n",
    "\n",
    "Calculate the weights of the first PCA factor.\n",
    "* Calculate the PCA loadings\n",
    "* Normalize them to sum to 1\n",
    "\n",
    "Make a bar chart of these (451!) weights.\n",
    "\n",
    "How would you describe this factor? For instance, is it long-only? Is it long-short many securities?\n",
    "\n",
    "Do the same for the second factor. How would you describe it?\n",
    "\n",
    "#### Hint\n",
    "The first row of `pca.components_` is what you need.\n",
    "\n",
    "\n",
    "### 3.3\n",
    "How similar is the first PC to SPY? \n",
    "\n",
    "1. Load SPY returns from `equity_data.xlsx`, tab `etf history`. Resample SPY into weekly returns.\n",
    "\n",
    "2. Use the weights for the first PC factor and multiply them by the securities to get the timeseries of PC 1 factor returns.\n",
    "\n",
    "3. Compare the (weekly-Friday) PC factor returns with the (weekly-Friday) SPY returns.\n",
    "\n",
    "What is the correlation between them?\n",
    "\n",
    "#### Hint\n",
    "Try `spy.resample('W-Friday').last().pct_change()` if `spy` is the pandas dataframe with spy prices."
   ]
  },
  {
   "cell_type": "markdown",
   "id": "0667044a",
   "metadata": {},
   "source": [
    "***"
   ]
  },
  {
   "cell_type": "markdown",
   "id": "c04e88d6",
   "metadata": {},
   "source": [
    "# <span style=\"color:red\">Solutions</span>"
   ]
  },
  {
   "cell_type": "code",
   "execution_count": 1,
   "id": "5e08d192",
   "metadata": {},
   "outputs": [],
   "source": [
    "import pandas as pd\n",
    "import numpy as np\n",
    "import datetime\n",
    "import warnings\n",
    "\n",
    "import matplotlib.pyplot as plt\n",
    "import seaborn as sns\n",
    "%matplotlib inline\n",
    "plt.rcParams['figure.figsize'] = (12,6)\n",
    "plt.rcParams['font.size'] = 15\n",
    "plt.rcParams['legend.fontsize'] = 13\n",
    "\n",
    "from matplotlib.ticker import (MultipleLocator,\n",
    "                               FormatStrFormatter,\n",
    "                               AutoMinorLocator)\n",
    "import sys\n",
    "sys.path.insert(0, '../cmds')\n",
    "from portfolio import *"
   ]
  },
  {
   "cell_type": "markdown",
   "id": "11618a9e",
   "metadata": {},
   "source": [
    "## <span style=\"color:red\">Solution 1</span>"
   ]
  },
  {
   "cell_type": "code",
   "execution_count": 2,
   "id": "f98dc3f4",
   "metadata": {},
   "outputs": [
    {
     "data": {
      "text/html": [
       "<div>\n",
       "<style scoped>\n",
       "    .dataframe tbody tr th:only-of-type {\n",
       "        vertical-align: middle;\n",
       "    }\n",
       "\n",
       "    .dataframe tbody tr th {\n",
       "        vertical-align: top;\n",
       "    }\n",
       "\n",
       "    .dataframe thead th {\n",
       "        text-align: right;\n",
       "    }\n",
       "</style>\n",
       "<table border=\"1\" class=\"dataframe\">\n",
       "  <thead>\n",
       "    <tr style=\"text-align: right;\">\n",
       "      <th></th>\n",
       "      <th>record_date</th>\n",
       "      <th>declared_date</th>\n",
       "      <th>payable_date</th>\n",
       "      <th>dividend_amount</th>\n",
       "      <th>dividend_frequency</th>\n",
       "      <th>dividend_type</th>\n",
       "    </tr>\n",
       "    <tr>\n",
       "      <th>ex_date</th>\n",
       "      <th></th>\n",
       "      <th></th>\n",
       "      <th></th>\n",
       "      <th></th>\n",
       "      <th></th>\n",
       "      <th></th>\n",
       "    </tr>\n",
       "  </thead>\n",
       "  <tbody>\n",
       "    <tr>\n",
       "      <th>2022-05-06</th>\n",
       "      <td>2022-05-09</td>\n",
       "      <td>2022-04-28</td>\n",
       "      <td>2022-05-12</td>\n",
       "      <td>0.230000</td>\n",
       "      <td>Quarter</td>\n",
       "      <td>Regular Cash</td>\n",
       "    </tr>\n",
       "    <tr>\n",
       "      <th>2022-02-04</th>\n",
       "      <td>2022-02-07</td>\n",
       "      <td>2022-01-27</td>\n",
       "      <td>2022-02-10</td>\n",
       "      <td>0.220000</td>\n",
       "      <td>Quarter</td>\n",
       "      <td>Regular Cash</td>\n",
       "    </tr>\n",
       "    <tr>\n",
       "      <th>2021-11-05</th>\n",
       "      <td>2021-11-08</td>\n",
       "      <td>2021-10-28</td>\n",
       "      <td>2021-11-11</td>\n",
       "      <td>0.220000</td>\n",
       "      <td>Quarter</td>\n",
       "      <td>Regular Cash</td>\n",
       "    </tr>\n",
       "    <tr>\n",
       "      <th>2021-08-06</th>\n",
       "      <td>2021-08-09</td>\n",
       "      <td>2021-07-27</td>\n",
       "      <td>2021-08-12</td>\n",
       "      <td>0.220000</td>\n",
       "      <td>Quarter</td>\n",
       "      <td>Regular Cash</td>\n",
       "    </tr>\n",
       "    <tr>\n",
       "      <th>2021-05-07</th>\n",
       "      <td>2021-05-10</td>\n",
       "      <td>2021-04-28</td>\n",
       "      <td>2021-05-13</td>\n",
       "      <td>0.220000</td>\n",
       "      <td>Quarter</td>\n",
       "      <td>Regular Cash</td>\n",
       "    </tr>\n",
       "    <tr>\n",
       "      <th>...</th>\n",
       "      <td>...</td>\n",
       "      <td>...</td>\n",
       "      <td>...</td>\n",
       "      <td>...</td>\n",
       "      <td>...</td>\n",
       "      <td>...</td>\n",
       "    </tr>\n",
       "    <tr>\n",
       "      <th>1988-02-12</th>\n",
       "      <td>1988-02-19</td>\n",
       "      <td>1988-01-28</td>\n",
       "      <td>1988-03-15</td>\n",
       "      <td>0.000714</td>\n",
       "      <td>Quarter</td>\n",
       "      <td>Regular Cash</td>\n",
       "    </tr>\n",
       "    <tr>\n",
       "      <th>1987-11-17</th>\n",
       "      <td>1987-11-23</td>\n",
       "      <td>1987-11-12</td>\n",
       "      <td>1987-12-15</td>\n",
       "      <td>0.000714</td>\n",
       "      <td>Quarter</td>\n",
       "      <td>Regular Cash</td>\n",
       "    </tr>\n",
       "    <tr>\n",
       "      <th>1987-08-10</th>\n",
       "      <td>1987-08-14</td>\n",
       "      <td>1987-07-31</td>\n",
       "      <td>1987-09-15</td>\n",
       "      <td>0.000536</td>\n",
       "      <td>Quarter</td>\n",
       "      <td>Regular Cash</td>\n",
       "    </tr>\n",
       "    <tr>\n",
       "      <th>1987-06-16</th>\n",
       "      <td>1987-05-15</td>\n",
       "      <td>1987-04-22</td>\n",
       "      <td>1987-06-15</td>\n",
       "      <td>2.000000</td>\n",
       "      <td>None</td>\n",
       "      <td>Stock Split</td>\n",
       "    </tr>\n",
       "    <tr>\n",
       "      <th>1987-05-11</th>\n",
       "      <td>1987-05-15</td>\n",
       "      <td>1987-04-22</td>\n",
       "      <td>1987-06-15</td>\n",
       "      <td>0.000536</td>\n",
       "      <td>Quarter</td>\n",
       "      <td>Regular Cash</td>\n",
       "    </tr>\n",
       "  </tbody>\n",
       "</table>\n",
       "<p>81 rows × 6 columns</p>\n",
       "</div>"
      ],
      "text/plain": [
       "           record_date declared_date payable_date  dividend_amount  \\\n",
       "ex_date                                                              \n",
       "2022-05-06  2022-05-09    2022-04-28   2022-05-12         0.230000   \n",
       "2022-02-04  2022-02-07    2022-01-27   2022-02-10         0.220000   \n",
       "2021-11-05  2021-11-08    2021-10-28   2021-11-11         0.220000   \n",
       "2021-08-06  2021-08-09    2021-07-27   2021-08-12         0.220000   \n",
       "2021-05-07  2021-05-10    2021-04-28   2021-05-13         0.220000   \n",
       "...                ...           ...          ...              ...   \n",
       "1988-02-12  1988-02-19    1988-01-28   1988-03-15         0.000714   \n",
       "1987-11-17  1987-11-23    1987-11-12   1987-12-15         0.000714   \n",
       "1987-08-10  1987-08-14    1987-07-31   1987-09-15         0.000536   \n",
       "1987-06-16  1987-05-15    1987-04-22   1987-06-15         2.000000   \n",
       "1987-05-11  1987-05-15    1987-04-22   1987-06-15         0.000536   \n",
       "\n",
       "           dividend_frequency dividend_type  \n",
       "ex_date                                      \n",
       "2022-05-06            Quarter  Regular Cash  \n",
       "2022-02-04            Quarter  Regular Cash  \n",
       "2021-11-05            Quarter  Regular Cash  \n",
       "2021-08-06            Quarter  Regular Cash  \n",
       "2021-05-07            Quarter  Regular Cash  \n",
       "...                       ...           ...  \n",
       "1988-02-12            Quarter  Regular Cash  \n",
       "1987-11-17            Quarter  Regular Cash  \n",
       "1987-08-10            Quarter  Regular Cash  \n",
       "1987-06-16               None   Stock Split  \n",
       "1987-05-11            Quarter  Regular Cash  \n",
       "\n",
       "[81 rows x 6 columns]"
      ]
     },
     "execution_count": 2,
     "metadata": {},
     "output_type": "execute_result"
    }
   ],
   "source": [
    "LOADFILE = '../data/equity_data.xlsx'\n",
    "TICK = 'AAPL'\n",
    "TAB = f'prices {TICK}'\n",
    "px = pd.read_excel(LOADFILE,sheet_name=TAB).set_index('date')\n",
    "\n",
    "TAB = f'dividends {TICK}'\n",
    "dvds = pd.read_excel(LOADFILE,sheet_name=TAB).set_index('ex_date')\n",
    "dvds"
   ]
  },
  {
   "cell_type": "markdown",
   "id": "55e03a14",
   "metadata": {},
   "source": [
    "### 1.1\n",
    "\n",
    "With the adjustments, returns are identical up to 4 decimal places."
   ]
  },
  {
   "cell_type": "code",
   "execution_count": 3,
   "id": "71b50239",
   "metadata": {},
   "outputs": [],
   "source": [
    "rets = px.pct_change()\n",
    "rets['Unadjusted Price Modified'] = rets.copy()['Unadjusted Price']\n",
    "\n",
    "for dt in dvds.index:\n",
    "    if dt in rets.index:\n",
    "        if dvds.loc[dt,'dividend_type']=='Regular Cash':\n",
    "            rets.loc[dt,'Unadjusted Price Modified'] = (px.loc[dt,'Unadjusted Price'] + dvds.loc[dt,'dividend_amount']) / px['Unadjusted Price'].shift().loc[dt] - 1\n",
    "\n",
    "        elif dvds.loc[dt,'dividend_type']=='Stock Split':\n",
    "            rets.loc[dt,'Unadjusted Price Modified'] = dvds.loc[dt,'dividend_amount'] * px.loc[dt,'Unadjusted Price'] / px['Unadjusted Price'].shift().loc[dt] - 1"
   ]
  },
  {
   "cell_type": "code",
   "execution_count": 4,
   "id": "77520532",
   "metadata": {},
   "outputs": [
    {
     "data": {
      "text/html": [
       "<style type=\"text/css\">\n",
       "</style>\n",
       "<table id=\"T_24eb8\">\n",
       "  <thead>\n",
       "    <tr>\n",
       "      <th class=\"blank level0\" >&nbsp;</th>\n",
       "      <th id=\"T_24eb8_level0_col0\" class=\"col_heading level0 col0\" >Adjusted Price</th>\n",
       "      <th id=\"T_24eb8_level0_col1\" class=\"col_heading level0 col1\" >Unadjusted Price</th>\n",
       "      <th id=\"T_24eb8_level0_col2\" class=\"col_heading level0 col2\" >Unadjusted Price Modified</th>\n",
       "    </tr>\n",
       "    <tr>\n",
       "      <th class=\"index_name level0\" >ex_date</th>\n",
       "      <th class=\"blank col0\" >&nbsp;</th>\n",
       "      <th class=\"blank col1\" >&nbsp;</th>\n",
       "      <th class=\"blank col2\" >&nbsp;</th>\n",
       "    </tr>\n",
       "  </thead>\n",
       "  <tbody>\n",
       "    <tr>\n",
       "      <th id=\"T_24eb8_level0_row0\" class=\"row_heading level0 row0\" >2022-05-06 00:00:00</th>\n",
       "      <td id=\"T_24eb8_row0_col0\" class=\"data row0 col0\" >0.4727%</td>\n",
       "      <td id=\"T_24eb8_row0_col1\" class=\"data row0 col1\" >0.3253%</td>\n",
       "      <td id=\"T_24eb8_row0_col2\" class=\"data row0 col2\" >0.4720%</td>\n",
       "    </tr>\n",
       "    <tr>\n",
       "      <th id=\"T_24eb8_level0_row1\" class=\"row_heading level0 row1\" >2022-02-04 00:00:00</th>\n",
       "      <td id=\"T_24eb8_row1_col0\" class=\"data row1 col0\" >-0.1682%</td>\n",
       "      <td id=\"T_24eb8_row1_col1\" class=\"data row1 col1\" >-0.2950%</td>\n",
       "      <td id=\"T_24eb8_row1_col2\" class=\"data row1 col2\" >-0.1677%</td>\n",
       "    </tr>\n",
       "  </tbody>\n",
       "</table>\n"
      ],
      "text/plain": [
       "<pandas.io.formats.style.Styler at 0x1276d1460>"
      ]
     },
     "execution_count": 4,
     "metadata": {},
     "output_type": "execute_result"
    }
   ],
   "source": [
    "rets.loc[dvds.index[0:2],:].style.format('{:.4%}')"
   ]
  },
  {
   "cell_type": "markdown",
   "id": "0d58c404",
   "metadata": {},
   "source": [
    "### 1.2\n",
    "\n",
    "By adjusting for the split, we get almost the exact same return as the \"Adjusted Price\" series.\n",
    "\n",
    "Note that the \"Unadjusted Price\" would show a loss of nearly 75%!"
   ]
  },
  {
   "cell_type": "code",
   "execution_count": 5,
   "id": "4c5efe4a",
   "metadata": {},
   "outputs": [
    {
     "data": {
      "text/html": [
       "<style type=\"text/css\">\n",
       "</style>\n",
       "<table id=\"T_5547c\">\n",
       "  <thead>\n",
       "    <tr>\n",
       "      <th class=\"blank level0\" >&nbsp;</th>\n",
       "      <th id=\"T_5547c_level0_col0\" class=\"col_heading level0 col0\" >2020-08-31 00:00:00</th>\n",
       "    </tr>\n",
       "  </thead>\n",
       "  <tbody>\n",
       "    <tr>\n",
       "      <th id=\"T_5547c_level0_row0\" class=\"row_heading level0 row0\" >Adjusted Price</th>\n",
       "      <td id=\"T_5547c_row0_col0\" class=\"data row0 col0\" >3.3914%</td>\n",
       "    </tr>\n",
       "    <tr>\n",
       "      <th id=\"T_5547c_level0_row1\" class=\"row_heading level0 row1\" >Unadjusted Price</th>\n",
       "      <td id=\"T_5547c_row1_col0\" class=\"data row1 col0\" >-74.1522%</td>\n",
       "    </tr>\n",
       "    <tr>\n",
       "      <th id=\"T_5547c_level0_row2\" class=\"row_heading level0 row2\" >Unadjusted Price Modified</th>\n",
       "      <td id=\"T_5547c_row2_col0\" class=\"data row2 col0\" >3.3912%</td>\n",
       "    </tr>\n",
       "  </tbody>\n",
       "</table>\n"
      ],
      "text/plain": [
       "<pandas.io.formats.style.Styler at 0x1275d5160>"
      ]
     },
     "execution_count": 5,
     "metadata": {},
     "output_type": "execute_result"
    }
   ],
   "source": [
    "rets.loc[dvds[dvds['dividend_type']=='Stock Split'].index[0]].to_frame().style.format('{:.4%}')"
   ]
  },
  {
   "cell_type": "markdown",
   "id": "1bf7a404",
   "metadata": {},
   "source": [
    "### Extra Analysis\n",
    "\n",
    "#### Correlation\n",
    "\n",
    "The unadjusted price series return has relatively low correlation with the adjusted series. \n",
    "\n",
    "However, after the modifications made above, it is over 99% correlated."
   ]
  },
  {
   "cell_type": "code",
   "execution_count": 6,
   "id": "029857e2",
   "metadata": {},
   "outputs": [
    {
     "data": {
      "text/html": [
       "<style type=\"text/css\">\n",
       "</style>\n",
       "<table id=\"T_f0a4a\">\n",
       "  <thead>\n",
       "    <tr>\n",
       "      <th class=\"blank level0\" >&nbsp;</th>\n",
       "      <th id=\"T_f0a4a_level0_col0\" class=\"col_heading level0 col0\" >Adjusted Price</th>\n",
       "      <th id=\"T_f0a4a_level0_col1\" class=\"col_heading level0 col1\" >Unadjusted Price</th>\n",
       "      <th id=\"T_f0a4a_level0_col2\" class=\"col_heading level0 col2\" >Unadjusted Price Modified</th>\n",
       "    </tr>\n",
       "  </thead>\n",
       "  <tbody>\n",
       "    <tr>\n",
       "      <th id=\"T_f0a4a_level0_row0\" class=\"row_heading level0 row0\" >Adjusted Price</th>\n",
       "      <td id=\"T_f0a4a_row0_col0\" class=\"data row0 col0\" >100.0%</td>\n",
       "      <td id=\"T_f0a4a_row0_col1\" class=\"data row0 col1\" >74.3%</td>\n",
       "      <td id=\"T_f0a4a_row0_col2\" class=\"data row0 col2\" >100.0%</td>\n",
       "    </tr>\n",
       "    <tr>\n",
       "      <th id=\"T_f0a4a_level0_row1\" class=\"row_heading level0 row1\" >Unadjusted Price</th>\n",
       "      <td id=\"T_f0a4a_row1_col0\" class=\"data row1 col0\" >74.3%</td>\n",
       "      <td id=\"T_f0a4a_row1_col1\" class=\"data row1 col1\" >100.0%</td>\n",
       "      <td id=\"T_f0a4a_row1_col2\" class=\"data row1 col2\" >74.3%</td>\n",
       "    </tr>\n",
       "    <tr>\n",
       "      <th id=\"T_f0a4a_level0_row2\" class=\"row_heading level0 row2\" >Unadjusted Price Modified</th>\n",
       "      <td id=\"T_f0a4a_row2_col0\" class=\"data row2 col0\" >100.0%</td>\n",
       "      <td id=\"T_f0a4a_row2_col1\" class=\"data row2 col1\" >74.3%</td>\n",
       "      <td id=\"T_f0a4a_row2_col2\" class=\"data row2 col2\" >100.0%</td>\n",
       "    </tr>\n",
       "  </tbody>\n",
       "</table>\n"
      ],
      "text/plain": [
       "<pandas.io.formats.style.Styler at 0x1277d4fa0>"
      ]
     },
     "execution_count": 6,
     "metadata": {},
     "output_type": "execute_result"
    }
   ],
   "source": [
    "rets.corr().style.format('{:.1%}')"
   ]
  },
  {
   "cell_type": "markdown",
   "id": "5156ef15",
   "metadata": {},
   "source": [
    "#### Performance\n",
    "\n",
    "Without the adjustment, the stock splits and unaccounted dividends lead to a much lower mean and higher volatility."
   ]
  },
  {
   "cell_type": "code",
   "execution_count": 7,
   "id": "6893ae42",
   "metadata": {},
   "outputs": [
    {
     "data": {
      "text/html": [
       "<style type=\"text/css\">\n",
       "</style>\n",
       "<table id=\"T_5ff51\">\n",
       "  <thead>\n",
       "    <tr>\n",
       "      <th class=\"blank level0\" >&nbsp;</th>\n",
       "      <th id=\"T_5ff51_level0_col0\" class=\"col_heading level0 col0\" >Mean</th>\n",
       "      <th id=\"T_5ff51_level0_col1\" class=\"col_heading level0 col1\" >Vol</th>\n",
       "      <th id=\"T_5ff51_level0_col2\" class=\"col_heading level0 col2\" >Sharpe</th>\n",
       "      <th id=\"T_5ff51_level0_col3\" class=\"col_heading level0 col3\" >Min</th>\n",
       "      <th id=\"T_5ff51_level0_col4\" class=\"col_heading level0 col4\" >Max</th>\n",
       "    </tr>\n",
       "  </thead>\n",
       "  <tbody>\n",
       "    <tr>\n",
       "      <th id=\"T_5ff51_level0_row0\" class=\"row_heading level0 row0\" >Adjusted Price</th>\n",
       "      <td id=\"T_5ff51_row0_col0\" class=\"data row0 col0\" >38.3%</td>\n",
       "      <td id=\"T_5ff51_row0_col1\" class=\"data row0 col1\" >33.5%</td>\n",
       "      <td id=\"T_5ff51_row0_col2\" class=\"data row0 col2\" >114.5%</td>\n",
       "      <td id=\"T_5ff51_row0_col3\" class=\"data row0 col3\" >-17.9%</td>\n",
       "      <td id=\"T_5ff51_row0_col4\" class=\"data row0 col4\" >13.9%</td>\n",
       "    </tr>\n",
       "    <tr>\n",
       "      <th id=\"T_5ff51_level0_row1\" class=\"row_heading level0 row1\" >Unadjusted Price</th>\n",
       "      <td id=\"T_5ff51_row1_col0\" class=\"data row1 col0\" >25.8%</td>\n",
       "      <td id=\"T_5ff51_row1_col1\" class=\"data row1 col1\" >44.2%</td>\n",
       "      <td id=\"T_5ff51_row1_col2\" class=\"data row1 col2\" >58.5%</td>\n",
       "      <td id=\"T_5ff51_row1_col3\" class=\"data row1 col3\" >-85.5%</td>\n",
       "      <td id=\"T_5ff51_row1_col4\" class=\"data row1 col4\" >13.9%</td>\n",
       "    </tr>\n",
       "    <tr>\n",
       "      <th id=\"T_5ff51_level0_row2\" class=\"row_heading level0 row2\" >Unadjusted Price Modified</th>\n",
       "      <td id=\"T_5ff51_row2_col0\" class=\"data row2 col0\" >37.7%</td>\n",
       "      <td id=\"T_5ff51_row2_col1\" class=\"data row2 col1\" >33.5%</td>\n",
       "      <td id=\"T_5ff51_row2_col2\" class=\"data row2 col2\" >112.5%</td>\n",
       "      <td id=\"T_5ff51_row2_col3\" class=\"data row2 col3\" >-17.9%</td>\n",
       "      <td id=\"T_5ff51_row2_col4\" class=\"data row2 col4\" >13.9%</td>\n",
       "    </tr>\n",
       "  </tbody>\n",
       "</table>\n"
      ],
      "text/plain": [
       "<pandas.io.formats.style.Styler at 0x127839be0>"
      ]
     },
     "execution_count": 7,
     "metadata": {},
     "output_type": "execute_result"
    }
   ],
   "source": [
    "performanceMetrics(rets,annualization=252).style.format('{:.1%}')"
   ]
  },
  {
   "cell_type": "markdown",
   "id": "96aadc92",
   "metadata": {},
   "source": [
    "## <span style=\"color:red\">Solution 2</span>"
   ]
  },
  {
   "cell_type": "code",
   "execution_count": 8,
   "id": "bff2b18b",
   "metadata": {},
   "outputs": [
    {
     "data": {
      "text/html": [
       "<style type=\"text/css\">\n",
       "</style>\n",
       "<table id=\"T_8c4c2\">\n",
       "  <thead>\n",
       "    <tr>\n",
       "      <th class=\"blank level0\" >&nbsp;</th>\n",
       "      <th id=\"T_8c4c2_level0_col0\" class=\"col_heading level0 col0\" >SPY</th>\n",
       "      <th id=\"T_8c4c2_level0_col1\" class=\"col_heading level0 col1\" >UPRO</th>\n",
       "      <th id=\"T_8c4c2_level0_col2\" class=\"col_heading level0 col2\" >EEM</th>\n",
       "      <th id=\"T_8c4c2_level0_col3\" class=\"col_heading level0 col3\" >VGK</th>\n",
       "      <th id=\"T_8c4c2_level0_col4\" class=\"col_heading level0 col4\" >EWJ</th>\n",
       "      <th id=\"T_8c4c2_level0_col5\" class=\"col_heading level0 col5\" >IYR</th>\n",
       "      <th id=\"T_8c4c2_level0_col6\" class=\"col_heading level0 col6\" >DBC</th>\n",
       "      <th id=\"T_8c4c2_level0_col7\" class=\"col_heading level0 col7\" >HYG</th>\n",
       "      <th id=\"T_8c4c2_level0_col8\" class=\"col_heading level0 col8\" >TIP</th>\n",
       "      <th id=\"T_8c4c2_level0_col9\" class=\"col_heading level0 col9\" >BITO</th>\n",
       "    </tr>\n",
       "  </thead>\n",
       "  <tbody>\n",
       "    <tr>\n",
       "      <th id=\"T_8c4c2_level0_row0\" class=\"row_heading level0 row0\" >SPY beta</th>\n",
       "      <td id=\"T_8c4c2_row0_col0\" class=\"data row0 col0\" >1.00</td>\n",
       "      <td id=\"T_8c4c2_row0_col1\" class=\"data row0 col1\" >3.01</td>\n",
       "      <td id=\"T_8c4c2_row0_col2\" class=\"data row0 col2\" >1.05</td>\n",
       "      <td id=\"T_8c4c2_row0_col3\" class=\"data row0 col3\" >1.07</td>\n",
       "      <td id=\"T_8c4c2_row0_col4\" class=\"data row0 col4\" >0.74</td>\n",
       "      <td id=\"T_8c4c2_row0_col5\" class=\"data row0 col5\" >0.94</td>\n",
       "      <td id=\"T_8c4c2_row0_col6\" class=\"data row0 col6\" >0.44</td>\n",
       "      <td id=\"T_8c4c2_row0_col7\" class=\"data row0 col7\" >0.38</td>\n",
       "      <td id=\"T_8c4c2_row0_col8\" class=\"data row0 col8\" >-0.05</td>\n",
       "      <td id=\"T_8c4c2_row0_col9\" class=\"data row0 col9\" >1.68</td>\n",
       "    </tr>\n",
       "  </tbody>\n",
       "</table>\n"
      ],
      "text/plain": [
       "<pandas.io.formats.style.Styler at 0x1278d6e50>"
      ]
     },
     "execution_count": 8,
     "metadata": {},
     "output_type": "execute_result"
    }
   ],
   "source": [
    "LOADFILE = '../data/equity_data.xlsx'\n",
    "TAB = 'etf history'\n",
    "etfs = pd.read_excel(LOADFILE,sheet_name=TAB).set_index('date')\n",
    "spy = etfs[['SPY']]\n",
    "\n",
    "x = spy.pct_change().dropna()\n",
    "\n",
    "betas = pd.DataFrame(index=etfs.columns,dtype=float, columns=['SPY beta'])\n",
    "for col in etfs.columns:\n",
    "    y = etfs[[col]].pct_change().dropna()\n",
    "    y, x = y.align(x,join='inner',axis=0)\n",
    "    betas.loc[col] = LinearRegression().fit(x,y).coef_\n",
    "\n",
    "betas.T.style.format('{:.2f}')"
   ]
  },
  {
   "cell_type": "markdown",
   "id": "4f303c20",
   "metadata": {},
   "source": [
    "## <span style=\"color:red\">Solution 3</span>"
   ]
  },
  {
   "cell_type": "code",
   "execution_count": 9,
   "id": "e3138a44",
   "metadata": {},
   "outputs": [],
   "source": [
    "LOADFILE = '../data/spx_returns_weekly.xlsx'\n",
    "rets = pd.read_excel(LOADFILE,sheet_name='s&p500 rets').set_index('date')\n",
    "\n",
    "retsSPY = spy.resample('W-Fri').last().pct_change()"
   ]
  },
  {
   "cell_type": "markdown",
   "id": "4d5b43e3",
   "metadata": {},
   "source": [
    "### 3.1\n",
    "\n",
    "PCA variance explained is largely from just the first factor.\n",
    "\n",
    "Even the second factor explains relatively little, (less than 10%), and the 5th factor explains less than 2%."
   ]
  },
  {
   "cell_type": "code",
   "execution_count": 10,
   "id": "a047318d",
   "metadata": {},
   "outputs": [
    {
     "data": {
      "text/html": [
       "<style type=\"text/css\">\n",
       "</style>\n",
       "<table id=\"T_c23a3\">\n",
       "  <thead>\n",
       "    <tr>\n",
       "      <th class=\"blank level0\" >&nbsp;</th>\n",
       "      <th id=\"T_c23a3_level0_col0\" class=\"col_heading level0 col0\" >0</th>\n",
       "      <th id=\"T_c23a3_level0_col1\" class=\"col_heading level0 col1\" >1</th>\n",
       "      <th id=\"T_c23a3_level0_col2\" class=\"col_heading level0 col2\" >2</th>\n",
       "      <th id=\"T_c23a3_level0_col3\" class=\"col_heading level0 col3\" >3</th>\n",
       "      <th id=\"T_c23a3_level0_col4\" class=\"col_heading level0 col4\" >4</th>\n",
       "      <th id=\"T_c23a3_level0_col5\" class=\"col_heading level0 col5\" >5</th>\n",
       "    </tr>\n",
       "  </thead>\n",
       "  <tbody>\n",
       "    <tr>\n",
       "      <th id=\"T_c23a3_level0_row0\" class=\"row_heading level0 row0\" >Variance explained</th>\n",
       "      <td id=\"T_c23a3_row0_col0\" class=\"data row0 col0\" >41.64%</td>\n",
       "      <td id=\"T_c23a3_row0_col1\" class=\"data row0 col1\" >5.74%</td>\n",
       "      <td id=\"T_c23a3_row0_col2\" class=\"data row0 col2\" >3.83%</td>\n",
       "      <td id=\"T_c23a3_row0_col3\" class=\"data row0 col3\" >2.81%</td>\n",
       "      <td id=\"T_c23a3_row0_col4\" class=\"data row0 col4\" >2.12%</td>\n",
       "      <td id=\"T_c23a3_row0_col5\" class=\"data row0 col5\" >1.46%</td>\n",
       "    </tr>\n",
       "  </tbody>\n",
       "</table>\n"
      ],
      "text/plain": [
       "<pandas.io.formats.style.Styler at 0x12763f130>"
      ]
     },
     "execution_count": 10,
     "metadata": {},
     "output_type": "execute_result"
    }
   ],
   "source": [
    "from sklearn.decomposition import PCA\n",
    "\n",
    "pca = PCA(svd_solver='full')\n",
    "pca.fit(rets)\n",
    "pca_var_explained = pd.DataFrame(pca.explained_variance_ratio_,columns=['Variance explained'])\n",
    "\n",
    "pca_var_explained.loc[0:5].T.style.format('{:.2%}'.format)"
   ]
  },
  {
   "cell_type": "markdown",
   "id": "9d1a5a7c",
   "metadata": {},
   "source": [
    "### 3.2\n",
    "\n",
    "The weights of the first principal component look like a long-only portfolio, similar to a broad equity index."
   ]
  },
  {
   "cell_type": "code",
   "execution_count": 11,
   "id": "a694bc51",
   "metadata": {},
   "outputs": [
    {
     "data": {
      "image/png": "[encoded data removed]",
      "text/plain": [
       "<Figure size 864x432 with 1 Axes>"
      ]
     },
     "metadata": {
      "needs_background": "light"
     },
     "output_type": "display_data"
    }
   ],
   "source": [
    "pca_wts = pd.DataFrame(pca.components_,columns=rets.columns)\n",
    "#pca_wts.index = ['PC 1','PC 2: Slope','PC 3: Curvature','PCA 4','PCA 5','PCA 6','PCA 7']\n",
    "\n",
    "pca_factors = rets @ pca_wts.T\n",
    "\n",
    "allrets = pd.concat([retsSPY,rets],axis=1).dropna()\n",
    "\n",
    "temp = pd.concat([pca_factors.iloc[:,0:3],allrets],axis=1)\n",
    "rho = temp.corr()\n",
    "fh = rho.iloc[3:,0].plot.bar()\n",
    "\n",
    "fh.set_xticks([])#tick_params(bottom=False)\n",
    "plt.xlabel('stocks')\n",
    "plt.ylabel('correlation to PC 1')\n",
    "plt.title('Correlation to PC 1')\n",
    "plt.show()"
   ]
  },
  {
   "cell_type": "code",
   "execution_count": 12,
   "id": "f4cbbf01",
   "metadata": {},
   "outputs": [
    {
     "data": {
      "image/png": "[encoded data removed]",
      "text/plain": [
       "<Figure size 864x432 with 1 Axes>"
      ]
     },
     "metadata": {
      "needs_background": "light"
     },
     "output_type": "display_data"
    }
   ],
   "source": [
    "fh = (pca_wts.loc[0]/pca_wts.loc[0].sum()).plot.bar()\n",
    "fh.set_xticks([])\n",
    "plt.xlabel('stocks')\n",
    "plt.ylabel('PC 1 weights')\n",
    "plt.title('Weights of PC 1')\n",
    "plt.show()"
   ]
  },
  {
   "cell_type": "markdown",
   "id": "e48a01e6",
   "metadata": {},
   "source": [
    "The second PC seems to be a long-short portfolio, loading on relative differences of stocks."
   ]
  },
  {
   "cell_type": "code",
   "execution_count": 13,
   "id": "7843d03e",
   "metadata": {},
   "outputs": [
    {
     "data": {
      "image/png": "[encoded data removed]",
      "text/plain": [
       "<Figure size 864x432 with 1 Axes>"
      ]
     },
     "metadata": {
      "needs_background": "light"
     },
     "output_type": "display_data"
    }
   ],
   "source": [
    "fh = (pca_wts.loc[1]/pca_wts.loc[1].sum()).plot.bar()\n",
    "fh.set_xticks([])\n",
    "plt.xlabel('stocks')\n",
    "plt.ylabel('PC 2 weights')\n",
    "plt.title('Weights of PC 2')\n",
    "plt.show()"
   ]
  },
  {
   "cell_type": "markdown",
   "id": "4d063813",
   "metadata": {},
   "source": [
    "### 3.3\n",
    "\n",
    "Correlation of SPY to the top 3 PC factors is below.\n",
    "\n",
    "The correlation of PC 1 to SPY is over 90%. This supports the idea that movements in SPY drive much of the overall variation."
   ]
  },
  {
   "cell_type": "code",
   "execution_count": 14,
   "id": "9eb1221b",
   "metadata": {},
   "outputs": [
    {
     "data": {
      "text/html": [
       "<style type=\"text/css\">\n",
       "</style>\n",
       "<table id=\"T_9e22e\">\n",
       "  <thead>\n",
       "    <tr>\n",
       "      <th class=\"blank level0\" >&nbsp;</th>\n",
       "      <th id=\"T_9e22e_level0_col0\" class=\"col_heading level0 col0\" >0</th>\n",
       "      <th id=\"T_9e22e_level0_col1\" class=\"col_heading level0 col1\" >1</th>\n",
       "      <th id=\"T_9e22e_level0_col2\" class=\"col_heading level0 col2\" >2</th>\n",
       "    </tr>\n",
       "  </thead>\n",
       "  <tbody>\n",
       "    <tr>\n",
       "      <th id=\"T_9e22e_level0_row0\" class=\"row_heading level0 row0\" >SPY</th>\n",
       "      <td id=\"T_9e22e_row0_col0\" class=\"data row0 col0\" >93.7%</td>\n",
       "      <td id=\"T_9e22e_row0_col1\" class=\"data row0 col1\" >-24.6%</td>\n",
       "      <td id=\"T_9e22e_row0_col2\" class=\"data row0 col2\" >-13.7%</td>\n",
       "    </tr>\n",
       "  </tbody>\n",
       "</table>\n"
      ],
      "text/plain": [
       "<pandas.io.formats.style.Styler at 0x127d52bb0>"
      ]
     },
     "execution_count": 14,
     "metadata": {},
     "output_type": "execute_result"
    }
   ],
   "source": [
    "rho.loc[[0,1,2],'SPY'].to_frame().T.style.format('{:.1%}')"
   ]
  },
  {
   "cell_type": "markdown",
   "id": "b7bb9ed6",
   "metadata": {},
   "source": [
    "SPY's pairwise correlation to stocks is, (on average,) over 60%.\n",
    "\n",
    "PC 1's pairwise correltion ot stocks is, (on average,) nearly the same."
   ]
  },
  {
   "cell_type": "code",
   "execution_count": 15,
   "id": "f6384ebf",
   "metadata": {},
   "outputs": [
    {
     "data": {
      "text/html": [
       "<style type=\"text/css\">\n",
       "</style>\n",
       "<table id=\"T_4d0da\">\n",
       "  <thead>\n",
       "    <tr>\n",
       "      <th class=\"blank level0\" >&nbsp;</th>\n",
       "      <th id=\"T_4d0da_level0_col0\" class=\"col_heading level0 col0\" >0</th>\n",
       "      <th id=\"T_4d0da_level0_col1\" class=\"col_heading level0 col1\" >1</th>\n",
       "    </tr>\n",
       "  </thead>\n",
       "  <tbody>\n",
       "    <tr>\n",
       "      <th id=\"T_4d0da_level0_row0\" class=\"row_heading level0 row0\" >0</th>\n",
       "      <td id=\"T_4d0da_row0_col0\" class=\"data row0 col0\" >60.6%</td>\n",
       "      <td id=\"T_4d0da_row0_col1\" class=\"data row0 col1\" >61.8%</td>\n",
       "    </tr>\n",
       "  </tbody>\n",
       "</table>\n"
      ],
      "text/plain": [
       "<pandas.io.formats.style.Styler at 0x12a93f640>"
      ]
     },
     "execution_count": 15,
     "metadata": {},
     "output_type": "execute_result"
    }
   ],
   "source": [
    "pd.DataFrame([rho['SPY'].iloc[4:].mean(), rho[0].iloc[4:].mean()]).T.style.format('{:.1%}')"
   ]
  }
 ],
 "metadata": {
  "hide_input": false,
  "kernelspec": {
   "display_name": "Python 3 (ipykernel)",
   "language": "python",
   "name": "python3"
  },
  "language_info": {
   "codemirror_mode": {
    "name": "ipython",
    "version": 3
   },
   "file_extension": ".py",
   "mimetype": "text/x-python",
   "name": "python",
   "nbconvert_exporter": "python",
   "pygments_lexer": "ipython3",
   "version": "3.9.7"
  }
 },
 "nbformat": 4,
 "nbformat_minor": 5
}
