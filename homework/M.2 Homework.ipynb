{
 "cells": [
  {
   "cell_type": "markdown",
   "id": "e39bf1e9",
   "metadata": {},
   "source": [
    "# Homework 2\n",
    "## Markets\n",
    "### FINM September Launch\n",
    "\n",
    "Mark Hendricks\n",
    "\n",
    "hendricks@uchicago.edu\n",
    "\n",
    "Maneet Singh - TA\n",
    "\n",
    "maneetsingh@uchicago.edu"
   ]
  },
  {
   "cell_type": "markdown",
   "id": "89ee0eea",
   "metadata": {},
   "source": [
    "## Data\n",
    "- This homework uses the file, “inflation_data.xlsx”.\n",
    "- Find the data in the Github repo associated with the module, (link on Canvas.)\n",
    "\n",
    "\n",
    "The data file contains...\n",
    "\n",
    "- Macroeconomic Data\n",
    "    \n",
    "    - Core CPI price index, denoted as p.\n",
    "    \n",
    "    - M2 Money Supply, denoted as m.\n",
    "\n",
    "- Financial data\n",
    "\n",
    "- Returns on the S&P 500, (via the SPY ETF)\n",
    "\n",
    "\n",
    "See the “build data” folder for the details on how the data was constructed."
   ]
  },
  {
   "cell_type": "markdown",
   "id": "f4870c1f",
   "metadata": {},
   "source": [
    "## 1. Assessing the OLS Model\n",
    "\n",
    "This problem considers the predictability of inflation over various horizons. To do so, note the following:\n",
    "\n",
    "- $i_{t,t+h}$: Inflation is the h-period growth rate of CPI:\n",
    "\n",
    "$$\n",
    "i_{t,t+h} ≡ \\frac{p_{t+h}}{p_t} − 1\n",
    "$$\n",
    "\n",
    "\n",
    "- $g_{t,t+h}$: Money growth considered below is the growth rate of M2 Money supply:\n",
    "\n",
    "$$\n",
    "g_{t,t+h} ≡ \\frac{m_{t+h}}{m_t}− 1\n",
    "$$"
   ]
  },
  {
   "cell_type": "markdown",
   "id": "fea1a35f",
   "metadata": {},
   "source": [
    "1. Estimate an OLS regression to see if CPI and Money are contemporaneously correlated:\n",
    "\n",
    "$$\n",
    "p_t = \\alpha + \\beta m_t + \\epsilon_t\n",
    "$$\n",
    "\n",
    "    - Note that this is not a lagged regression, but rather a regular time-series regression.\n",
    "    - Answer the questions below for a one-year horizon: h = 12.\n",
    "    \n",
    "    (a) Report the estimated R-squared.\n",
    "    (b) Report the point-estimate of β."
   ]
  },
  {
   "cell_type": "markdown",
   "id": "7d896eeb",
   "metadata": {},
   "source": [
    "2. This time, examine a regression of growth rates. Specifically, estimate an OLS regression to see if inflation and money growth are contemporaneously correlated:\n",
    "\n",
    "$$\n",
    "i_{t,t+h} = \\alpha + \\beta g_{t,t+h} + \\epsilon_{t,t+h}\n",
    "$$\n",
    "\n",
    "    • Note that this is not a lagged regression, but rather a regular time-series regression.\n",
    "    • Answer the questions below for a one-year horizon: h = 12.\n",
    "\n",
    "    (a) Report the estimated R-squared.\n",
    "    (b) Report the point-estimate of β."
   ]
  },
  {
   "cell_type": "markdown",
   "id": "0f788de1",
   "metadata": {},
   "source": [
    "3. The result of regressing inflation on money growth is very different from regressing CPI on Money. What do you conclude? Does it seem that variation in money contemporaneously explains variation in inflation? \n",
    "\n",
    "    In particular, what is wrong with one of the two regression models? Consider plotting the raw dependent and independent variable of each."
   ]
  },
  {
   "cell_type": "markdown",
   "id": "233465b3",
   "metadata": {},
   "source": [
    "4. Answer the remaining questions regarding the estimation of inflation on money growth in part 2 above.\n",
    "\n",
    "    Do the residuals seem to be iid? That is,\n",
    "    \n",
    "    (a) do they seem to be drawn from a constant variance?\n",
    "    \n",
    "    (b) do they have serial correlation?\n",
    "    \n",
    "    Assess this informally by plotting the time-series of estimated sample residuals, e."
   ]
  },
  {
   "cell_type": "markdown",
   "id": "8037b7c5",
   "metadata": {},
   "source": [
    "5. Suppose that the residuals are heteroskedastic and have serial correlation.\n",
    "    \n",
    "    (a) Report whether the estimates for α or β are statistically significant relative to 0, for a\n",
    "    significance level of 5%.$^1$\n",
    "    \n",
    "    (b) Do you have concerns about the accuracy of the reported p-values?\n",
    "    \n",
    "    (c) Do you have concerns about the estimated beta? For small samples, for large samples?"
   ]
  },
  {
   "cell_type": "markdown",
   "id": "7ac09659",
   "metadata": {},
   "source": [
    "6. OPTIONAL\n",
    "\n",
    "    (a) Assess the residuals with the Durbin-Watson test for serial correlation. $^2$\n",
    "    \n",
    "    (b) Formally assess heteroskedasticity of the residuals with White’s test. $^3$"
   ]
  },
  {
   "cell_type": "markdown",
   "id": "1c1f815a",
   "metadata": {},
   "source": [
    "## 2. Forecasting via Regressions\n",
    "\n",
    "Consider a forecasting (lagged) regression for inflation at horizon h:\n",
    "\n",
    "$$\n",
    "            i_{t,t+h} = \\alpha + \\beta x_{t−h,t} + \\epsilon_{t,t+h}\n",
    "$$\n",
    "\n",
    "- Note that the regressor is lagged relative to the dependent variable."
   ]
  },
  {
   "cell_type": "markdown",
   "id": "7807395f",
   "metadata": {},
   "source": [
    "1. Forecast using lagged inflation. Namely, estimate the above for\n",
    "    \n",
    "    • h = 1, 12, 24, 36\n",
    "    \n",
    "    • inflation as the regressor\n",
    "    \n",
    "    For each horizon regression, report the R-squared."
   ]
  },
  {
   "cell_type": "markdown",
   "id": "e757545f",
   "metadata": {},
   "source": [
    "2. Redo the previous problem, but this time with (lagged) money growth as the regressor instead of (lagged) inflation."
   ]
  },
  {
   "cell_type": "markdown",
   "id": "116d52b9",
   "metadata": {},
   "source": [
    "3. Redo the previous problem, this time using both (lagged) inflation and (lagged) money growth as the regressors."
   ]
  },
  {
   "cell_type": "markdown",
   "id": "91f16e52",
   "metadata": {},
   "source": [
    "4. Does either regressor seem to have forecasting power? Does combining them improve the forecast?"
   ]
  },
  {
   "cell_type": "markdown",
   "id": "827363fc",
   "metadata": {},
   "source": [
    "5. Validity of the results\n",
    "\n",
    "    (a) Plot the estimated residual for the forecasting regression at horizon h = 12 which uses both\n",
    "    inflation and money growth as regressors.\n",
    "    \n",
    "    (b) Does it seem to have serial correlation?\n",
    "    \n",
    "    (c) Supposing the residual has serial correlation, does this give you concern for the betas above,\n",
    "    or just the p-values?"
   ]
  },
  {
   "cell_type": "markdown",
   "id": "3843cbd5",
   "metadata": {},
   "source": [
    "###### Footnotes:\n",
    "\n",
    "<font size=\"3\">\n",
    "    \n",
    "    1. Check the reported p-value for each of the estimates, perhaps using stats-models OLS function.\n",
    "    2. This is reported by default in the stats-models OLS estimation summary. A value less than 2 would indicate potential issues with serial correlation.\n",
    "    3. See the documentation for the stats-model package.  \n",
    "\n",
    "</font>"
   ]
  }
 ],
 "metadata": {
  "kernelspec": {
   "display_name": "Python 3 (ipykernel)",
   "language": "python",
   "name": "python3"
  },
  "language_info": {
   "codemirror_mode": {
    "name": "ipython",
    "version": 3
   },
   "file_extension": ".py",
   "mimetype": "text/x-python",
   "name": "python",
   "nbconvert_exporter": "python",
   "pygments_lexer": "ipython3",
   "version": "3.8.8"
  }
 },
 "nbformat": 4,
 "nbformat_minor": 5
}
