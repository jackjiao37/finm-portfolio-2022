{
 "cells": [
  {
   "cell_type": "code",
   "execution_count": 1,
   "metadata": {},
   "outputs": [],
   "source": [
    "import pandas as pd\n",
    "import numpy as np\n",
    "from datetime import date\n",
    "\n",
    "import pandas_datareader.data as web\n",
    "import pandas_datareader as pdr"
   ]
  },
  {
   "cell_type": "code",
   "execution_count": 2,
   "metadata": {},
   "outputs": [],
   "source": [
    "START_DATE = '1999-01-01'\n",
    "END_DATE = '2022-06-30'\n",
    "TICKS_FX = ['DEXUSUK','DEXUSEU','DEXSZUS','DEXJPUS']\n",
    "TICKS_RF = ['SOFR','IUDSOIA']\n",
    "LABS_RF = ['SOFR','SONIA']\n",
    "TICKS_CRYPTO = ['CBBTCUSD','CBETHUSD','CBLTCUSD','CBBCHUSD']\n",
    "LABS = ['BTC','ETH','LTC','BCH']\n",
    "\n",
    "INDIRECT = False\n",
    "\n",
    "fxraw = pdr.DataReader(TICKS_FX,data_source='fred', start=START_DATE,end=END_DATE)\n",
    "\n",
    "map_labels = {TICKS_RF[i]:LABS_RF[i] for i in range(len(TICKS_RF))}\n",
    "rf = pdr.DataReader(TICKS_RF,data_source='fred', start=START_DATE,end=END_DATE).rename(columns=map_labels).dropna()/100\n",
    "\n",
    "map_labels = {TICKS_CRYPTO[i]:LABS[i] for i in range(len(TICKS_CRYPTO))}\n",
    "crypto = pdr.DataReader(TICKS_CRYPTO,data_source='fred', start=START_DATE,end=END_DATE).rename(columns=map_labels)"
   ]
  },
  {
   "cell_type": "code",
   "execution_count": 3,
   "metadata": {},
   "outputs": [
    {
     "data": {
      "text/html": [
       "<div>\n",
       "<style scoped>\n",
       "    .dataframe tbody tr th:only-of-type {\n",
       "        vertical-align: middle;\n",
       "    }\n",
       "\n",
       "    .dataframe tbody tr th {\n",
       "        vertical-align: top;\n",
       "    }\n",
       "\n",
       "    .dataframe thead th {\n",
       "        text-align: right;\n",
       "    }\n",
       "</style>\n",
       "<table border=\"1\" class=\"dataframe\">\n",
       "  <thead>\n",
       "    <tr style=\"text-align: right;\">\n",
       "      <th></th>\n",
       "      <th>Ticker Description</th>\n",
       "    </tr>\n",
       "  </thead>\n",
       "  <tbody>\n",
       "    <tr>\n",
       "      <th>USUK</th>\n",
       "      <td>Spot FX, US per UK (GBP)</td>\n",
       "    </tr>\n",
       "    <tr>\n",
       "      <th>USEU</th>\n",
       "      <td>Spot FX, US per EU (EUR)</td>\n",
       "    </tr>\n",
       "    <tr>\n",
       "      <th>USSZ</th>\n",
       "      <td>Spot FX, US per SZ (CHF)</td>\n",
       "    </tr>\n",
       "    <tr>\n",
       "      <th>USJPY</th>\n",
       "      <td>Spot FX, US per JP (JPY)</td>\n",
       "    </tr>\n",
       "  </tbody>\n",
       "</table>\n",
       "</div>"
      ],
      "text/plain": [
       "             Ticker Description\n",
       "USUK   Spot FX, US per UK (GBP)\n",
       "USEU   Spot FX, US per EU (EUR)\n",
       "USSZ   Spot FX, US per SZ (CHF)\n",
       "USJPY  Spot FX, US per JP (JPY)"
      ]
     },
     "execution_count": 3,
     "metadata": {},
     "output_type": "execute_result"
    }
   ],
   "source": [
    "info = pd.DataFrame(columns=['Ticker Description'])\n",
    "\n",
    "info.loc['USUK'] = 'Spot FX, US per UK (GBP)'\n",
    "info.loc['USEU'] = 'Spot FX, US per EU (EUR)'\n",
    "info.loc['USSZ'] = 'Spot FX, US per SZ (CHF)'\n",
    "info.loc['USJPY'] = 'Spot FX, US per JP (JPY)'\n",
    "info"
   ]
  },
  {
   "cell_type": "code",
   "execution_count": 4,
   "metadata": {},
   "outputs": [],
   "source": [
    "RESAMPLE = False\n",
    "FREQ = 'D'\n",
    "    \n",
    "if FREQ == 'M':\n",
    "    SCALE = 30\n",
    "elif FREQ == 'Y':\n",
    "    SCALE = ANNUALIZATION\n",
    "elif FREQ == 'D':\n",
    "    SCALE = 1\n",
    "else:\n",
    "    error('Frequency needs specified.')"
   ]
  },
  {
   "cell_type": "code",
   "execution_count": 5,
   "metadata": {},
   "outputs": [],
   "source": [
    "fx = pd.DataFrame(index=fxraw.index)\n",
    "\n",
    "for tick in TICKS_FX:\n",
    "    lab = tick[-4:]\n",
    "    if lab[-2:] == 'US':\n",
    "        lab = lab[-2:] + lab[-4:-2]\n",
    "        fx[lab] = 1/fxraw[tick]\n",
    "    else:\n",
    "        fx[lab] = fxraw[tick]\n",
    "\n",
    "if RESAMPLE:\n",
    "    fx = fx.resample(FREQ).last()\n",
    "    \n",
    "if INDIRECT:\n",
    "    fx = 1/fx"
   ]
  },
  {
   "cell_type": "code",
   "execution_count": 6,
   "metadata": {},
   "outputs": [],
   "source": [
    "fx, crypto = fx.dropna().align(crypto.dropna(),join='inner',axis=0)"
   ]
  },
  {
   "cell_type": "code",
   "execution_count": 7,
   "metadata": {},
   "outputs": [],
   "source": [
    "currency = pd.concat([fx,crypto],axis=1)\n",
    "\n",
    "import seaborn as sns\n",
    "sns.heatmap(currency.diff().corr(),annot=True)\n",
    "\n",
    "sns.heatmap(currency.resample('M').last().diff().corr(),annot=True)"
   ]
  },
  {
   "cell_type": "markdown",
   "metadata": {},
   "source": [
    "# Save to Excel"
   ]
  },
  {
   "cell_type": "code",
   "execution_count": 11,
   "metadata": {},
   "outputs": [],
   "source": [
    "with pd.ExcelWriter('../data/fx_data.xlsx') as writer:  \n",
    "    info.to_excel(writer, sheet_name = 'descriptions')\n",
    "    fx.to_excel(writer, sheet_name='fx rates')\n",
    "    rf.to_excel(writer, sheet_name='interest rates')\n",
    "    crypto.to_excel(writer, sheet_name='crypto')"
   ]
  }
 ],
 "metadata": {
  "hide_input": false,
  "kernelspec": {
   "display_name": "Python 3 (ipykernel)",
   "language": "python",
   "name": "python3"
  },
  "language_info": {
   "codemirror_mode": {
    "name": "ipython",
    "version": 3
   },
   "file_extension": ".py",
   "mimetype": "text/x-python",
   "name": "python",
   "nbconvert_exporter": "python",
   "pygments_lexer": "ipython3",
   "version": "3.9.7"
  }
 },
 "nbformat": 4,
 "nbformat_minor": 4
}
