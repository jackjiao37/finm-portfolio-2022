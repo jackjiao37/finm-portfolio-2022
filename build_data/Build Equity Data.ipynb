{
 "cells": [
  {
   "cell_type": "code",
   "execution_count": 1,
   "id": "8071e6f4",
   "metadata": {},
   "outputs": [],
   "source": [
    "import pandas as pd\n",
    "import numpy as np\n",
    "from xbbg import blp\n",
    "\n",
    "import string\n",
    "\n",
    "import sys\n",
    "sys.path.insert(0, '../cmds')\n",
    "from utils import *\n",
    "\n",
    "\n",
    "import matplotlib.pyplot as plt\n",
    "%matplotlib inline\n",
    "plt.rcParams['figure.figsize'] = (12,6)\n",
    "plt.rcParams['font.size'] = 15\n",
    "plt.rcParams['legend.fontsize'] = 13"
   ]
  },
  {
   "cell_type": "code",
   "execution_count": 2,
   "id": "38238737",
   "metadata": {},
   "outputs": [],
   "source": [
    "TICK = 'AAPL'\n",
    "STARTDATE = '2004-01-01'\n",
    "ENDDATE = '2022-06-30'\n",
    "FLDS = 'last_price'"
   ]
  },
  {
   "cell_type": "markdown",
   "id": "dfac89fc",
   "metadata": {},
   "source": [
    "# Adjusted vs Unadjusted Prices"
   ]
  },
  {
   "cell_type": "code",
   "execution_count": 3,
   "id": "fe3f9420",
   "metadata": {},
   "outputs": [],
   "source": [
    "bbtick = f'{TICK} US Equity'\n",
    "\n",
    "data_unadj = blp.bdh(tickers=bbtick, flds=FLDS, start_date=STARTDATE,\n",
    "                     end_date=ENDDATE, CshAdjNormal=False,CshAdjAbnormal=False, \n",
    "                     CapChg=False).droplevel(level=0,axis=1)\n",
    "data_adj = blp.bdh(tickers=bbtick, flds=FLDS, start_date=STARTDATE,\n",
    "                     end_date=ENDDATE,adjust='all').droplevel(level=0,axis=1)\n",
    "\n",
    "data_adj.index = pd.to_datetime(data_adj.index)\n",
    "data_unadj.index = pd.to_datetime(data_unadj.index)\n",
    "prices = pd.concat([data_adj,data_unadj],axis=1)\n",
    "prices.columns = ['Adjusted Price','Unadjusted Price']\n",
    "prices.index.name = 'date'"
   ]
  },
  {
   "cell_type": "code",
   "execution_count": 4,
   "id": "d87c2430",
   "metadata": {},
   "outputs": [],
   "source": [
    "FLDS = 'DVD_HIST_ALL'\n",
    "dvds = blp.bds(tickers=bbtick, flds=FLDS).set_index('record_date')"
   ]
  },
  {
   "cell_type": "markdown",
   "id": "35b889a6",
   "metadata": {},
   "source": [
    "# Short Interest"
   ]
  },
  {
   "cell_type": "code",
   "execution_count": 5,
   "id": "bd449a99",
   "metadata": {},
   "outputs": [],
   "source": [
    "FLDS = ['SHORT_INT','SHORT_INT_RATIO']\n",
    "short = blp.bdh(tickers=bbtick, flds=FLDS, start_date=STARTDATE,\n",
    "                     end_date=ENDDATE).droplevel(level=0,axis=1)\n",
    "short.index.name = 'date'"
   ]
  },
  {
   "cell_type": "markdown",
   "id": "f9b9dcc9",
   "metadata": {},
   "source": [
    "# Metrics"
   ]
  },
  {
   "cell_type": "code",
   "execution_count": 6,
   "id": "a018d6ca",
   "metadata": {},
   "outputs": [],
   "source": [
    "FLDS = ['Volume','VWAP Volume','AVERAGE_BID_ASK_SPREAD_%']\n",
    "metrics = blp.bdh(tickers=bbtick, flds=FLDS, start_date=STARTDATE,\n",
    "                     end_date=ENDDATE).droplevel(level=0,axis=1)\n",
    "metrics.index.name = 'date'"
   ]
  },
  {
   "cell_type": "markdown",
   "id": "ad6b9a7a",
   "metadata": {},
   "source": [
    "# Indexes\n",
    "## Info"
   ]
  },
  {
   "cell_type": "code",
   "execution_count": 7,
   "id": "e1af1eb1",
   "metadata": {},
   "outputs": [],
   "source": [
    "TICKSINDEX = ['SPX','NYA','CCMP','RIY','RTY','INDU','DJITR','NKY','HSI','UKX','DAX','SVX','SGX']\n",
    "bbticksidx = [index + ' Index' for index in TICKSINDEX]\n",
    "FLDS = ['NAME','COUNT_INDEX_MEMBERS']\n",
    "\n",
    "index_info = blp.bdp(tickers=bbticksidx, flds=FLDS)#.droplevel(level=0,axis=1)\n",
    "index_info.index = [row.split()[0] for row in index_info.index]\n",
    "index_info = index_info.loc[TICKSINDEX,:]\n",
    "index_info.index.name = 'ticker'"
   ]
  },
  {
   "cell_type": "markdown",
   "id": "d4251b83",
   "metadata": {},
   "source": [
    "## History"
   ]
  },
  {
   "cell_type": "code",
   "execution_count": 8,
   "id": "a268f47b",
   "metadata": {},
   "outputs": [],
   "source": [
    "FLDS = ['LAST_PRICE']\n",
    "STARTDATE_index = '1993-01-01'\n",
    "indexes = blp.bdh(tickers=bbticksidx, flds=FLDS, start_date=STARTDATE_index,\n",
    "                     end_date=ENDDATE, adjust='all').droplevel(level=1,axis=1)\n",
    "\n",
    "indexes.columns = [col.split()[0] for col in indexes.columns]\n",
    "indexes = indexes[TICKSINDEX]\n",
    "indexes.index.name = 'date'"
   ]
  },
  {
   "cell_type": "markdown",
   "id": "6424098f",
   "metadata": {},
   "source": [
    "# ETFs\n",
    "\n",
    "## Info"
   ]
  },
  {
   "cell_type": "code",
   "execution_count": 9,
   "id": "63d63dad",
   "metadata": {},
   "outputs": [],
   "source": [
    "TICKSETFS = ['SPY','UPRO','EEM','VGK','EWJ','IYR','DBC','HYG','TIP','BITO']\n",
    "bbticksetfs = [etf + ' US Equity' for etf in TICKSETFS]\n",
    "\n",
    "\n",
    "FLDS = ['TOTAL_NUMBER_OF_HOLDINGS_IN_PORT','FUND_EXPENSE_RATIO','FUND_ASSET_CLASS_FOCUS','FUND_OBJECTIVE_LONG','EQY_DVD_YLD_IND']\n",
    "\n",
    "etf_info = blp.bdp(tickers=bbticksetfs, flds=FLDS)#.droplevel(level=0,axis=1)\n",
    "\n",
    "etf_info.index = [row.split()[0] for row in etf_info.index]\n",
    "etf_info = etf_info.loc[TICKSETFS,:]\n",
    "etf_info.index.name = 'ticker'"
   ]
  },
  {
   "cell_type": "markdown",
   "id": "3b57004b",
   "metadata": {},
   "source": [
    "## History"
   ]
  },
  {
   "cell_type": "code",
   "execution_count": 10,
   "id": "7b8136ad",
   "metadata": {},
   "outputs": [],
   "source": [
    "FLDS = ['LAST_PRICE']\n",
    "STARTDATE_etf = '1993-01-01'\n",
    "etfs = blp.bdh(tickers=bbticksetfs, flds=FLDS, start_date=STARTDATE_etf,\n",
    "                     end_date=ENDDATE, adjust='all').droplevel(level=1,axis=1)\n",
    "\n",
    "etfs.columns = [col.split()[0] for col in etfs.columns]\n",
    "etfs = etfs[TICKSETFS]\n",
    "etfs.index.name = 'date'"
   ]
  },
  {
   "cell_type": "code",
   "execution_count": 11,
   "id": "7f4cfcad",
   "metadata": {},
   "outputs": [],
   "source": [
    "TICKETF = 'SPY'\n",
    "bbticketf = f'{TICKETF} US Equity'\n",
    "FLDS = ['LAST_PRICE','EQY_DVD_YLD_IND']\n",
    "spy = blp.bdh(tickers=bbticketf, flds=FLDS, start_date=STARTDATE_etf,\n",
    "                     end_date=ENDDATE, adjust='all').droplevel(level=0,axis=1)\n",
    "spy.index.name = 'date'"
   ]
  },
  {
   "cell_type": "markdown",
   "id": "dd62cf42",
   "metadata": {},
   "source": [
    "# Save File"
   ]
  },
  {
   "cell_type": "code",
   "execution_count": 12,
   "id": "76ec532d",
   "metadata": {},
   "outputs": [
    {
     "name": "stdout",
     "output_type": "stream",
     "text": [
      "\n",
      "19JUL2022_20:06:24.338 17622:123145492697088 WARN apism_apisession.cpp:1196 Apisession.aliveCheck Alive Request Retries exhausted (2) on [localhost:8194 -> 127.0.0.1:54058] \n",
      "\n",
      "19JUL2022_20:06:24.346 17622:123145494294528 WARN blpapi_platformcontroller.cpp:402 blpapi.session.platformcontroller.{1} Connectivity lost, no connected endpoints. \n",
      "\n",
      "19JUL2022_20:06:29.350 17622:123145493233664 WARN blpapi_apicmadapter.cpp:346 blpapi.session.transporttcp.apicmadapter.{1} Connection attempt timed out localhost:8194 <127.0.0.1:8194> \n",
      "\n",
      "19JUL2022_20:06:29.350 17622:123145493233664 WARN blpapi_platformtransporttcp.cpp:151 blpapi.session.transporttcp.{1}.<localhost:8194> { platformId=0 } 127.0.0.1, session pool state=Failed \n",
      "\n",
      "19JUL2022_20:06:37.361 17622:123145493233664 WARN blpapi_apicmadapter.cpp:346 blpapi.session.transporttcp.apicmadapter.{1} Connection attempt timed out localhost:8194 <127.0.0.1:8194> \n",
      "\n",
      "19JUL2022_20:06:37.361 17622:123145493233664 WARN blpapi_platformtransporttcp.cpp:151 blpapi.session.transporttcp.{1}.<localhost:8194> { platformId=0 } 127.0.0.1, session pool state=Failed \n",
      "\n",
      "19JUL2022_20:06:45.368 17622:123145493233664 WARN blpapi_apicmadapter.cpp:346 blpapi.session.transporttcp.apicmadapter.{1} Connection attempt timed out localhost:8194 <127.0.0.1:8194> \n",
      "\n",
      "19JUL2022_20:06:45.368 17622:123145493233664 WARN blpapi_platformtransporttcp.cpp:151 blpapi.session.transporttcp.{1}.<localhost:8194> { platformId=0 } 127.0.0.1, session pool state=Failed \n",
      "\n",
      "19JUL2022_20:06:45.368 17622:123145493233664 WARN blpapi_platformcontroller.cpp:636 blpapi.session.platformcontroller.{1} Platform failed 3 consecutive connect attempts, stopped trying to reconnect. { PlatformId=0 }  \n"
     ]
    }
   ],
   "source": [
    "OUTFILE = f'../data/equity_data.xlsx'\n",
    "with pd.ExcelWriter(OUTFILE) as writer:  \n",
    "    prices.to_excel(writer, sheet_name= f'prices {TICK}', index=True)\n",
    "    short.to_excel(writer, sheet_name= f'short {TICK}', index=True)\n",
    "    metrics.to_excel(writer, sheet_name= f'metrics {TICK}', index=True)\n",
    "    dvds.to_excel(writer, sheet_name= f'dividends {TICK}', index=True)\n",
    "\n",
    "    index_info.to_excel(writer, sheet_name= f'index info', index=True)\n",
    "    indexes.to_excel(writer, sheet_name= f'index history', index=True)\n",
    "\n",
    "    etf_info.to_excel(writer, sheet_name= f'etf info', index=True)\n",
    "    etfs.to_excel(writer, sheet_name= f'etf history', index=True)\n",
    "    spy.to_excel(writer, sheet_name= f'{TICKETF} history', index=True)"
   ]
  }
 ],
 "metadata": {
  "hide_input": false,
  "kernelspec": {
   "display_name": "Python 3 (ipykernel)",
   "language": "python",
   "name": "python3"
  },
  "language_info": {
   "codemirror_mode": {
    "name": "ipython",
    "version": 3
   },
   "file_extension": ".py",
   "mimetype": "text/x-python",
   "name": "python",
   "nbconvert_exporter": "python",
   "pygments_lexer": "ipython3",
   "version": "3.9.7"
  }
 },
 "nbformat": 4,
 "nbformat_minor": 5
}
