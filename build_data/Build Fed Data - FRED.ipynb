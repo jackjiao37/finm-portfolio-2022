{
 "cells": [
  {
   "cell_type": "code",
   "execution_count": 1,
   "id": "64ade306",
   "metadata": {},
   "outputs": [],
   "source": [
    "import pandas as pd\n",
    "import pandas_datareader as pdr\n",
    "import datetime"
   ]
  },
  {
   "cell_type": "code",
   "execution_count": 2,
   "id": "fd113535",
   "metadata": {},
   "outputs": [],
   "source": [
    "SAVE_DATA = True\n",
    "\n",
    "STARTDATE = '2000-01-01'\n",
    "ENDDATE = '2022-06-30'"
   ]
  },
  {
   "cell_type": "code",
   "execution_count": 3,
   "id": "5880d152",
   "metadata": {},
   "outputs": [],
   "source": [
    "startdate = pd.to_datetime(STARTDATE)\n",
    "enddate = pd.to_datetime(ENDDATE)\n",
    "\n",
    "series = {\n",
    "    'EXCSRESNW':'Excess Reserves',\n",
    "    'IOER':'Interest Rate on Excess Reserves',\n",
    "    'IORB': 'Interest Rate on Reserves',\n",
    "    'DPCREDIT':'Discount Window Rate',\n",
    "    'DFEDTARU':'Fed Funds Target - Upper Limit',\n",
    "    'DFEDTARL':'Fed Funds Target - Lower Limit',\n",
    "    'EFFR':'Effective Federal Funds Rate',\n",
    "    'RPONTSYD': 'OMC Repo Treasury Purchased',\n",
    "    'RRPONTSYD': 'OMC Reverse Repo Treasury Sold',\n",
    "}\n",
    "\n",
    "\n",
    "ticks = list(series.keys())\n",
    "labs = list(series.values())"
   ]
  },
  {
   "cell_type": "code",
   "execution_count": 4,
   "id": "f3ae11e5",
   "metadata": {},
   "outputs": [],
   "source": [
    "data = pdr.DataReader(ticks,'fred',startdate,enddate)\n",
    "data.index.name = 'date'\n",
    "data.index = pd.to_datetime(data.index)"
   ]
  },
  {
   "cell_type": "code",
   "execution_count": 5,
   "id": "9e6ec9d3",
   "metadata": {},
   "outputs": [
    {
     "data": {
      "text/html": [
       "<div>\n",
       "<style scoped>\n",
       "    .dataframe tbody tr th:only-of-type {\n",
       "        vertical-align: middle;\n",
       "    }\n",
       "\n",
       "    .dataframe tbody tr th {\n",
       "        vertical-align: top;\n",
       "    }\n",
       "\n",
       "    .dataframe thead th {\n",
       "        text-align: right;\n",
       "    }\n",
       "</style>\n",
       "<table border=\"1\" class=\"dataframe\">\n",
       "  <thead>\n",
       "    <tr style=\"text-align: right;\">\n",
       "      <th></th>\n",
       "      <th>description</th>\n",
       "    </tr>\n",
       "    <tr>\n",
       "      <th>ticker (FRED)</th>\n",
       "      <th></th>\n",
       "    </tr>\n",
       "  </thead>\n",
       "  <tbody>\n",
       "    <tr>\n",
       "      <th>EXCSRESNW</th>\n",
       "      <td>Excess Reserves</td>\n",
       "    </tr>\n",
       "    <tr>\n",
       "      <th>IOER</th>\n",
       "      <td>Interest Rate on Excess Reserves</td>\n",
       "    </tr>\n",
       "    <tr>\n",
       "      <th>IORB</th>\n",
       "      <td>Interest Rate on Reserves</td>\n",
       "    </tr>\n",
       "    <tr>\n",
       "      <th>DPCREDIT</th>\n",
       "      <td>Discount Window Rate</td>\n",
       "    </tr>\n",
       "    <tr>\n",
       "      <th>DFEDTARU</th>\n",
       "      <td>Fed Funds Target - Upper Limit</td>\n",
       "    </tr>\n",
       "    <tr>\n",
       "      <th>DFEDTARL</th>\n",
       "      <td>Fed Funds Target - Lower Limit</td>\n",
       "    </tr>\n",
       "    <tr>\n",
       "      <th>EFFR</th>\n",
       "      <td>Effective Federal Funds Rate</td>\n",
       "    </tr>\n",
       "    <tr>\n",
       "      <th>RPONTSYD</th>\n",
       "      <td>OMC Repo Treasury Purchased</td>\n",
       "    </tr>\n",
       "    <tr>\n",
       "      <th>RRPONTSYD</th>\n",
       "      <td>OMC Reverse Repo Treasury Sold</td>\n",
       "    </tr>\n",
       "  </tbody>\n",
       "</table>\n",
       "</div>"
      ],
      "text/plain": [
       "                                    description\n",
       "ticker (FRED)                                  \n",
       "EXCSRESNW                       Excess Reserves\n",
       "IOER           Interest Rate on Excess Reserves\n",
       "IORB                  Interest Rate on Reserves\n",
       "DPCREDIT                   Discount Window Rate\n",
       "DFEDTARU         Fed Funds Target - Upper Limit\n",
       "DFEDTARL         Fed Funds Target - Lower Limit\n",
       "EFFR               Effective Federal Funds Rate\n",
       "RPONTSYD            OMC Repo Treasury Purchased\n",
       "RRPONTSYD        OMC Reverse Repo Treasury Sold"
      ]
     },
     "execution_count": 5,
     "metadata": {},
     "output_type": "execute_result"
    }
   ],
   "source": [
    "info = pd.DataFrame(index=ticks, data=labs)\n",
    "info.index.name = 'ticker (FRED)'\n",
    "info.columns = ['description']\n",
    "info"
   ]
  },
  {
   "cell_type": "code",
   "execution_count": 6,
   "id": "090b9788",
   "metadata": {},
   "outputs": [],
   "source": [
    "if SAVE_DATA:\n",
    "    outfile = '../data/fed_data.xlsx'\n",
    "    with pd.ExcelWriter(outfile) as writer:  \n",
    "        info.to_excel(writer, sheet_name= 'info', index=True)\n",
    "        data.to_excel(writer, sheet_name= 'data', index=True)"
   ]
  }
 ],
 "metadata": {
  "hide_input": false,
  "kernelspec": {
   "display_name": "Python 3 (ipykernel)",
   "language": "python",
   "name": "python3"
  },
  "language_info": {
   "codemirror_mode": {
    "name": "ipython",
    "version": 3
   },
   "file_extension": ".py",
   "mimetype": "text/x-python",
   "name": "python",
   "nbconvert_exporter": "python",
   "pygments_lexer": "ipython3",
   "version": "3.9.7"
  }
 },
 "nbformat": 4,
 "nbformat_minor": 5
}
