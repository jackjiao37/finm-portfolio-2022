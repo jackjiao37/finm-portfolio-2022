{
 "cells": [
  {
   "cell_type": "markdown",
   "id": "f7605588",
   "metadata": {},
   "source": [
    "# M.0. Introduction\n",
    "\n",
    "## Markets Foundations\n",
    "\n",
    "### UChicago Financial Mathematics\n",
    "\n",
    "#### September 2022\n",
    "\n",
    "* Mark Hendricks\n",
    "* hendricks@uchicago.edu"
   ]
  },
  {
   "cell_type": "markdown",
   "id": "43198814",
   "metadata": {},
   "source": [
    "# This Course\n",
    "\n",
    "## Objectives\n",
    "\n",
    "The main objective is **context**!\n",
    "\n",
    "* We are not here to cram and memorize everythinig you will need to know. \n",
    "* You will be learning throughout the year in courses, workshops, and many other opportunities. \n",
    "\n",
    "That learning will be faster and deeper if you have\n",
    "* foundations (tools, terminology)\n",
    "* context (map, questions, data)\n",
    "\n",
    "The August Review course was a start."
   ]
  },
  {
   "cell_type": "markdown",
   "id": "161e75b0",
   "metadata": {},
   "source": [
    "## Multidisciplinary\n",
    "\n",
    "This group has a **wide variety** of backgrounds/expertise.\n",
    "\n",
    "Our curriculum covers a wide range of topics, including\n",
    "* fixed income and their derivatives\n",
    "* equities and their derivatives\n",
    "* currencies\n",
    "* commodities\n",
    "* economics\n",
    "\n",
    "We will consider these topics from various perspectives, \n",
    "* finance\n",
    "* math\n",
    "* stats\n",
    "* computing\n",
    "* industry practice\n",
    "\n",
    "We do not expect that any of you are **quadruple majors** with work experience.\n",
    "\n",
    "For areas that are\n",
    "* New - lean into it\n",
    "* Familiar - add perspective and depth\n",
    "* Comfortable - dig into advanced topics"
   ]
  },
  {
   "cell_type": "markdown",
   "id": "70e55176",
   "metadata": {},
   "source": [
    "## Engagement\n",
    "\n",
    "This is not a book club.\n",
    "* We are not reading a textbook.\n",
    "* We are meeting to **discuss**.\n",
    "\n",
    "Be an active learner.\n",
    "* Asking a question is not interrupting!\n",
    "* Adding your perspective is valuable.\n",
    "* I will manage the time and flow--don't worry about whether your question/perspective is at the right time.\n",
    "\n",
    "Staying engaged.\n",
    "* We will be in Jupyter notebooks every day.\n",
    "* Use them to explore and extend on our topics."
   ]
  },
  {
   "cell_type": "markdown",
   "id": "d25fb543",
   "metadata": {},
   "source": [
    "## Get the Most Out of September Launch\n",
    "\n",
    "Avoid common pitfalls.\n",
    "\n",
    "#### Hesitancy\n",
    "* Being too cautious, wanting to wait until you know more to engage.\n",
    "* Feeling too overwhelmed to just get going, one step at a time.\n",
    "* Relying too much on group members to do the applications.\n",
    "\n",
    "#### Narrowly focusing\n",
    "* Avoiding topic areas where you have less experience / interest.\n",
    "* Not doing the prep to get the most out of each day."
   ]
  },
  {
   "cell_type": "markdown",
   "id": "9614eb5d",
   "metadata": {},
   "source": [
    "## Why This Course\n",
    "* Foundations for other courses\n",
    "* Foundations for job search"
   ]
  },
  {
   "cell_type": "markdown",
   "id": "19f2c252",
   "metadata": {},
   "source": [
    "# Who Am I?\n",
    "\n",
    "My Role\n",
    "* Associate Senior Instructional Professor, Department of Mathematics, University of Chicago\n",
    "* Deputy Director of the Master in Financial Mathematics\n",
    "* Courses include Portfolio Management, Valuation, Economics of Asset Pricing, Data Analysis.\n",
    "\n",
    "My Academic Experience\n",
    "* Taught at the Booth School of Business and the Department of Economics.\n",
    "* PhD studies at Chicago Booth, research focus in asset pricing dynamics.\n",
    "\n",
    "My Industry Experience\n",
    "* Quant strategy and research for hedge-funds.\n",
    "* Consulting for trading firms.\n",
    "* Consulting for non-financial firms."
   ]
  }
 ],
 "metadata": {
  "hide_input": false,
  "kernelspec": {
   "display_name": "Python 3 (ipykernel)",
   "language": "python",
   "name": "python3"
  },
  "language_info": {
   "codemirror_mode": {
    "name": "ipython",
    "version": 3
   },
   "file_extension": ".py",
   "mimetype": "text/x-python",
   "name": "python",
   "nbconvert_exporter": "python",
   "pygments_lexer": "ipython3",
   "version": "3.9.7"
  }
 },
 "nbformat": 4,
 "nbformat_minor": 5
}
