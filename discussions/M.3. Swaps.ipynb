{
 "cells": [
  {
   "cell_type": "markdown",
   "id": "f7605588",
   "metadata": {},
   "source": [
    "# M.3. Swaps\n",
    "\n",
    "## Markets Foundations\n",
    "\n",
    "### UChicago Financial Mathematics\n",
    "\n",
    "#### September 2022\n",
    "\n",
    "* Mark Hendricks\n",
    "* hendricks@uchicago.edu"
   ]
  },
  {
   "cell_type": "code",
   "execution_count": 1,
   "id": "58a6ce44",
   "metadata": {},
   "outputs": [],
   "source": [
    "import pandas as pd\n",
    "import numpy as np\n",
    "import datetime\n",
    "import warnings\n",
    "\n",
    "from sklearn.linear_model import LinearRegression\n",
    "from scipy.optimize import minimize\n",
    "\n",
    "import matplotlib.pyplot as plt\n",
    "%matplotlib inline\n",
    "plt.rcParams['figure.figsize'] = (12,6)\n",
    "plt.rcParams['font.size'] = 15\n",
    "plt.rcParams['legend.fontsize'] = 13\n",
    "\n",
    "import sys\n",
    "sys.path.insert(0, '../cmds')\n",
    "from treasury_cmds import *"
   ]
  },
  {
   "cell_type": "markdown",
   "id": "fcde2669",
   "metadata": {},
   "source": [
    "# Swaps"
   ]
  },
  {
   "cell_type": "markdown",
   "id": "a37fbe16",
   "metadata": {},
   "source": [
    "$\\newcommand{\\freq}{\\kappa}$\n",
    "$\\newcommand{\\cpn}{c}$\n",
    "$\\newcommand{\\spread}{s}$\n",
    "$\\newcommand{\\swap}{\\text{swap}}$\n",
    "$\\newcommand{\\swaprate}{\\cpn_{\\swap}}$\n",
    "$\\newcommand{\\cashflow}{C}$\n",
    "$\\newcommand{\\notional}{K}$"
   ]
  },
  {
   "cell_type": "markdown",
   "id": "9db22cee",
   "metadata": {},
   "source": [
    "Swaps markets are huge.\n",
    "\n",
    "Reference: Bank of International Settlements\n",
    "\n",
    "https://stats.bis.org/statx/srs/table/d5.1"
   ]
  },
  {
   "cell_type": "code",
   "execution_count": 2,
   "id": "e0b106b8",
   "metadata": {},
   "outputs": [
    {
     "data": {
      "image/png": "[encoded data removed]",
      "text/plain": [
       "<Figure size 864x432 with 2 Axes>"
      ]
     },
     "metadata": {
      "needs_background": "light"
     },
     "output_type": "display_data"
    }
   ],
   "source": [
    "bis_rates = pd.DataFrame(index=['Swaps','FRAs','Options'],data=[397109,39438,38562],columns=['notional'])\n",
    "bis_rates['gross market'] = [7787,195,630]\n",
    "bis_rates /= 1000\n",
    "\n",
    "fig,ax = plt.subplots(1,2,figsize=(12,6))\n",
    "bis_rates[['notional']].plot.bar(ax=ax[0],ylabel='trillions USD')\n",
    "bis_rates[['gross market']].plot.bar(ax=ax[1],ylabel='trillions USD')\n",
    "\n",
    "ax[0].tick_params(axis='x',rotation=0)\n",
    "ax[1].tick_params(axis='x',rotation=0)\n",
    "\n",
    "plt.suptitle('Rate Derivatives OTC')\n",
    "plt.tight_layout()\n",
    "plt.show()"
   ]
  },
  {
   "cell_type": "markdown",
   "id": "76d99206",
   "metadata": {},
   "source": [
    "### Definition\n",
    "\n",
    "A **swap** is an over-the-counter derivative. \n",
    "- Two counterparties agree at $t$ to swap payments on future dates.\n",
    "- The payments may be based on fixed vs floating interest rates on the same currency or fixed interest rates across two currencies.\n",
    "- The swap designates a **notional** base for the interest rates, but the notional is not exchanged.\n",
    "\n",
    "### Fixed-for-Floating\n",
    "\n",
    "A **fixed-for-floating** interest-rate swap is an agreement with the following obligations\n",
    "- make fixed payments at an annualized rate, $\\cpn_\\swap$, on a notional $\\notional$, up to a maturity date $T$.\n",
    "- make payments derived from a variable short-term rate, $r(t)$.\n",
    "\n",
    "Consider the swap \n",
    "- exchanging payments at frequency $\\freq$\n",
    "- thus making payments every $\\tau = 1/\\freq$.\n",
    "- the interest rate quoted is compounded at frequency $\\freq$.\n",
    "\n",
    "Cashflow, $\\cashflow$, at each swap period is\n",
    "\n",
    "$\\begin{align}\n",
    "\\cashflow(T_i) = \\notional\\, \\tau\\left[r_\\freq(T_{i-1},T_i)-\\cpn_\\swap\\right]\n",
    "\\end{align}$"
   ]
  },
  {
   "cell_type": "markdown",
   "id": "caf1b1ca",
   "metadata": {},
   "source": [
    "### Swap Rate\n",
    "\n",
    "The fixed rate in the fixed-for-floating swap, $\\cpn_\\swap$, is known as the **swap rate**.\n",
    "\n",
    "Note that it is specific to\n",
    "- the index underlying the floating rate\n",
    "- the maturity\n",
    "- the frequency of payments\n",
    "- the frequency of the compounding of the rates quoted"
   ]
  },
  {
   "cell_type": "markdown",
   "id": "9b51a76a",
   "metadata": {},
   "source": [
    "### Specifications \n",
    "\n",
    "Frequency\n",
    "- floating payment is often quarterly\n",
    "- fixed payment is often semiannual\n",
    "\n",
    "Floating rates\n",
    "- floating rate bonds typically use major money-market indexes.\n",
    "- in the past, **LIBOR was dominant** as a floating rate.\n",
    "- now, **SOFR** and the **Fed Fund Effective Rate** dominate for dollar-denominated instruments.\n",
    "\n",
    "SOFR and the Fed Funds Rate are discussed in depth later. \n",
    "- For now, just note that these are short-term interest rates."
   ]
  },
  {
   "cell_type": "markdown",
   "id": "3f97aa51",
   "metadata": {},
   "source": [
    "### No cost to initiate\n",
    "\n",
    "Like a forward, there is no cost to initiate the swap.\n",
    "- There is no cashflow immediately.\n",
    "- The swap rate is set such that the value is initially zero.\n",
    "- This is a similarity to the forward, (FRA or forward contract), where the forward rate is such that the initial value is zero.\n",
    "\n",
    "This aspect is an important part of why swaps (and forwards) have become so important for managing interest-rate risk: they allow one to change the duration of the portfolio without any initial price."
   ]
  },
  {
   "cell_type": "markdown",
   "id": "2a44faaf",
   "metadata": {},
   "source": [
    "### Example: SOFR Swaps\n",
    "\n",
    "The floating rate swapped is **SOFR, discussed below**.\n",
    "\n",
    "For now, just consider SOFR as a variable, short-term, nearly risk-free rate. We could find similar results if we considered the 13-week Tbill rate as the underyling.\n",
    "\n",
    "<img src=\"../refs/bb_sofr_swap_description.png\"/>"
   ]
  },
  {
   "cell_type": "markdown",
   "id": "eabfa9ed",
   "metadata": {},
   "source": [
    "### A LIBOR Swap\n",
    "<img src=\"../refs/swap_contract_libor.png\"/>"
   ]
  }
 ],
 "metadata": {
  "hide_input": false,
  "kernelspec": {
   "display_name": "Python 3 (ipykernel)",
   "language": "python",
   "name": "python3"
  },
  "language_info": {
   "codemirror_mode": {
    "name": "ipython",
    "version": 3
   },
   "file_extension": ".py",
   "mimetype": "text/x-python",
   "name": "python",
   "nbconvert_exporter": "python",
   "pygments_lexer": "ipython3",
   "version": "3.9.7"
  }
 },
 "nbformat": 4,
 "nbformat_minor": 5
}
